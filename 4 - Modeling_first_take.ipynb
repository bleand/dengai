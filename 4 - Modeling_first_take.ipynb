{
 "cells": [
  {
   "cell_type": "markdown",
   "id": "7bb74391",
   "metadata": {},
   "source": [
    "## DengAI competition\n",
    "The goal of this competition is to build a model that predicts the number of Dengue cases in San Juan and Iquitos\n",
    "\n",
    "- [X] Create a time split 80 - 20 per city (there are more years to train and predict for sj than iq)\n",
    "- [X] Create a basic baseline model with all features 'as is' (bad performance expected)\n",
    "- [X] Create a basic model only non-correlated features\n",
    "- [X] One model per city (another notebook)\n",
    "- [X] Normalize features\n",
    "- [X] Obtain feature importance\n",
    "- [ ] Implement time delay using moving averages (another notebook)"
   ]
  },
  {
   "cell_type": "code",
   "execution_count": 71,
   "id": "9872c9ba",
   "metadata": {},
   "outputs": [],
   "source": [
    "import pandas as pd\n",
    "import os\n",
    "import seaborn as sns\n",
    "from dateutil import parser\n",
    "from tqdm.auto import tqdm\n",
    "import matplotlib.pyplot as plt\n",
    "tqdm.pandas()\n",
    "import numpy as np\n",
    "import hydra\n",
    "from sklearn.metrics import mean_absolute_error\n",
    "from sklearn import preprocessing"
   ]
  },
  {
   "cell_type": "markdown",
   "id": "07b510ff",
   "metadata": {},
   "source": [
    "### Load data"
   ]
  },
  {
   "cell_type": "code",
   "execution_count": 72,
   "id": "511b9ce4",
   "metadata": {},
   "outputs": [],
   "source": [
    "data_folder = 'data'\n",
    "features_train_path = 'dengue_features_train.csv'\n",
    "labels_train_path = 'dengue_labels_train.csv'\n",
    "features_test_path = 'dengue_features_test.csv'"
   ]
  },
  {
   "cell_type": "code",
   "execution_count": 73,
   "id": "46122e68",
   "metadata": {},
   "outputs": [],
   "source": [
    "features_train = pd.read_csv(os.path.join(data_folder, features_train_path))\n",
    "labels_train = pd.read_csv(os.path.join(data_folder, labels_train_path))\n",
    "features_test = pd.read_csv(os.path.join(data_folder, features_test_path))"
   ]
  },
  {
   "cell_type": "markdown",
   "id": "b301722c",
   "metadata": {},
   "source": [
    "### Basic Pre-processing"
   ]
  },
  {
   "cell_type": "code",
   "execution_count": 74,
   "id": "830560ec",
   "metadata": {},
   "outputs": [
    {
     "data": {
      "application/vnd.jupyter.widget-view+json": {
       "model_id": "d4df10e83b564e0faaa943ab4b1bc2cd",
       "version_major": 2,
       "version_minor": 0
      },
      "text/plain": [
       "  0%|          | 0/1456 [00:00<?, ?it/s]"
      ]
     },
     "metadata": {},
     "output_type": "display_data"
    }
   ],
   "source": [
    "# transform week_start_date into a datetime feature\n",
    "features_train['week_start_date'] = features_train.progress_apply(lambda x: parser.parse(x.week_start_date), axis=1)"
   ]
  },
  {
   "cell_type": "code",
   "execution_count": 75,
   "id": "4afade12",
   "metadata": {},
   "outputs": [],
   "source": [
    "# Merge features and labels for easier exploration\n",
    "train_df = features_train.merge(labels_train, on=['city', 'year', 'weekofyear'])"
   ]
  },
  {
   "cell_type": "code",
   "execution_count": 76,
   "id": "a0440ddc",
   "metadata": {},
   "outputs": [],
   "source": [
    "def fill_ma(df, col):\n",
    "    df[col+'_MA'] =  df[col].fillna(df[col].mean()).rolling(2).mean().tolist()\n",
    "    df[col] = df.apply(lambda x: x[col] if not np.isnan(x[col]) else x[col+'_MA'], axis=1)\n",
    "    df.drop(columns=[col+'_MA'], inplace=True)"
   ]
  },
  {
   "cell_type": "code",
   "execution_count": 77,
   "id": "9684d557",
   "metadata": {},
   "outputs": [
    {
     "data": {
      "application/vnd.jupyter.widget-view+json": {
       "model_id": "26fc830652834e959098860f7a74a1c3",
       "version_major": 2,
       "version_minor": 0
      },
      "text/plain": [
       "  0%|          | 0/20 [00:00<?, ?it/s]"
      ]
     },
     "metadata": {},
     "output_type": "display_data"
    }
   ],
   "source": [
    "fill_ma_cols = [col for col in train_df.columns if train_df[train_df[col].isna()].shape[0] > 0]\n",
    "for col in tqdm(fill_ma_cols):\n",
    "#     fill_ma(train_df, col)\n",
    "    train_df[col].fillna(method='ffill', inplace=True)"
   ]
  },
  {
   "cell_type": "code",
   "execution_count": 78,
   "id": "3f362309",
   "metadata": {},
   "outputs": [],
   "source": [
    "train_df['weekofyear'] = train_df.apply(lambda x: x.weekofyear if x.weekofyear != 53 else 0, axis=1)"
   ]
  },
  {
   "cell_type": "markdown",
   "id": "2dd70898",
   "metadata": {},
   "source": [
    "### Split train - eval by date"
   ]
  },
  {
   "cell_type": "code",
   "execution_count": 79,
   "id": "bbf8ea4e",
   "metadata": {},
   "outputs": [],
   "source": [
    "iq_train_years = sorted(train_df[train_df.city == 'iq']['year'].drop_duplicates().values)[:int(train_df[train_df.city == 'iq']['year'].nunique() * 0.8)]\n",
    "iq_eval_years = sorted(train_df[train_df.city == 'iq']['year'].drop_duplicates().values)[int(train_df[train_df.city == 'iq']['year'].nunique() * 0.8):]\n",
    "sj_train_years = sorted(train_df[train_df.city == 'sj']['year'].drop_duplicates().values)[:int(train_df[train_df.city == 'sj']['year'].nunique() * 0.8)]\n",
    "sj_eval_years = sorted(train_df[train_df.city == 'sj']['year'].drop_duplicates().values)[int(train_df[train_df.city == 'sj']['year'].nunique() * 0.8):]"
   ]
  },
  {
   "cell_type": "code",
   "execution_count": 80,
   "id": "23cb9d2e",
   "metadata": {},
   "outputs": [],
   "source": [
    "eval_df = train_df[(train_df.city == 'sj') & (train_df.year.isin(sj_eval_years)) | (train_df.city == 'iq') & (train_df.year.isin(iq_eval_years))]\n",
    "train_df = train_df[(train_df.city == 'sj') & (train_df.year.isin(sj_train_years)) | (train_df.city == 'iq') & (train_df.year.isin(iq_train_years))]"
   ]
  },
  {
   "cell_type": "code",
   "execution_count": 12,
   "id": "c873c41c",
   "metadata": {},
   "outputs": [
    {
     "data": {
      "text/html": [
       "<div>\n",
       "<style scoped>\n",
       "    .dataframe tbody tr th:only-of-type {\n",
       "        vertical-align: middle;\n",
       "    }\n",
       "\n",
       "    .dataframe tbody tr th {\n",
       "        vertical-align: top;\n",
       "    }\n",
       "\n",
       "    .dataframe thead th {\n",
       "        text-align: right;\n",
       "    }\n",
       "</style>\n",
       "<table border=\"1\" class=\"dataframe\">\n",
       "  <thead>\n",
       "    <tr style=\"text-align: right;\">\n",
       "      <th></th>\n",
       "      <th>city</th>\n",
       "      <th>year</th>\n",
       "      <th>weekofyear</th>\n",
       "      <th>week_start_date</th>\n",
       "      <th>ndvi_ne</th>\n",
       "      <th>ndvi_nw</th>\n",
       "      <th>ndvi_se</th>\n",
       "      <th>ndvi_sw</th>\n",
       "      <th>precipitation_amt_mm</th>\n",
       "      <th>reanalysis_air_temp_k</th>\n",
       "      <th>...</th>\n",
       "      <th>reanalysis_relative_humidity_percent</th>\n",
       "      <th>reanalysis_sat_precip_amt_mm</th>\n",
       "      <th>reanalysis_specific_humidity_g_per_kg</th>\n",
       "      <th>reanalysis_tdtr_k</th>\n",
       "      <th>station_avg_temp_c</th>\n",
       "      <th>station_diur_temp_rng_c</th>\n",
       "      <th>station_max_temp_c</th>\n",
       "      <th>station_min_temp_c</th>\n",
       "      <th>station_precip_mm</th>\n",
       "      <th>total_cases</th>\n",
       "    </tr>\n",
       "  </thead>\n",
       "  <tbody>\n",
       "    <tr>\n",
       "      <th>763</th>\n",
       "      <td>sj</td>\n",
       "      <td>2005</td>\n",
       "      <td>0</td>\n",
       "      <td>2005-01-01</td>\n",
       "      <td>-0.126100</td>\n",
       "      <td>-0.062967</td>\n",
       "      <td>0.199486</td>\n",
       "      <td>0.140350</td>\n",
       "      <td>150.31</td>\n",
       "      <td>298.682857</td>\n",
       "      <td>...</td>\n",
       "      <td>83.952857</td>\n",
       "      <td>150.31</td>\n",
       "      <td>17.148571</td>\n",
       "      <td>2.057143</td>\n",
       "      <td>26.242857</td>\n",
       "      <td>5.714286</td>\n",
       "      <td>30.0</td>\n",
       "      <td>22.8</td>\n",
       "      <td>55.7</td>\n",
       "      <td>10</td>\n",
       "    </tr>\n",
       "    <tr>\n",
       "      <th>764</th>\n",
       "      <td>sj</td>\n",
       "      <td>2005</td>\n",
       "      <td>1</td>\n",
       "      <td>2005-01-08</td>\n",
       "      <td>0.007900</td>\n",
       "      <td>-0.049633</td>\n",
       "      <td>0.124657</td>\n",
       "      <td>0.100443</td>\n",
       "      <td>0.00</td>\n",
       "      <td>297.587143</td>\n",
       "      <td>...</td>\n",
       "      <td>74.778571</td>\n",
       "      <td>0.00</td>\n",
       "      <td>14.261429</td>\n",
       "      <td>1.957143</td>\n",
       "      <td>24.985714</td>\n",
       "      <td>4.900000</td>\n",
       "      <td>28.3</td>\n",
       "      <td>21.1</td>\n",
       "      <td>23.8</td>\n",
       "      <td>15</td>\n",
       "    </tr>\n",
       "    <tr>\n",
       "      <th>765</th>\n",
       "      <td>sj</td>\n",
       "      <td>2005</td>\n",
       "      <td>2</td>\n",
       "      <td>2005-01-15</td>\n",
       "      <td>0.024350</td>\n",
       "      <td>-0.019275</td>\n",
       "      <td>0.133543</td>\n",
       "      <td>0.127243</td>\n",
       "      <td>0.00</td>\n",
       "      <td>297.600000</td>\n",
       "      <td>...</td>\n",
       "      <td>78.798571</td>\n",
       "      <td>0.00</td>\n",
       "      <td>15.042857</td>\n",
       "      <td>1.914286</td>\n",
       "      <td>25.200000</td>\n",
       "      <td>5.385714</td>\n",
       "      <td>28.3</td>\n",
       "      <td>22.2</td>\n",
       "      <td>55.6</td>\n",
       "      <td>17</td>\n",
       "    </tr>\n",
       "    <tr>\n",
       "      <th>766</th>\n",
       "      <td>sj</td>\n",
       "      <td>2005</td>\n",
       "      <td>3</td>\n",
       "      <td>2005-01-22</td>\n",
       "      <td>-0.111833</td>\n",
       "      <td>-0.076450</td>\n",
       "      <td>0.202900</td>\n",
       "      <td>0.223357</td>\n",
       "      <td>14.67</td>\n",
       "      <td>297.395714</td>\n",
       "      <td>...</td>\n",
       "      <td>83.055714</td>\n",
       "      <td>14.67</td>\n",
       "      <td>15.671429</td>\n",
       "      <td>1.914286</td>\n",
       "      <td>25.228571</td>\n",
       "      <td>4.914286</td>\n",
       "      <td>28.3</td>\n",
       "      <td>21.7</td>\n",
       "      <td>32.4</td>\n",
       "      <td>7</td>\n",
       "    </tr>\n",
       "    <tr>\n",
       "      <th>767</th>\n",
       "      <td>sj</td>\n",
       "      <td>2005</td>\n",
       "      <td>4</td>\n",
       "      <td>2005-01-29</td>\n",
       "      <td>-0.047900</td>\n",
       "      <td>0.043100</td>\n",
       "      <td>0.174300</td>\n",
       "      <td>0.145643</td>\n",
       "      <td>15.20</td>\n",
       "      <td>296.535714</td>\n",
       "      <td>...</td>\n",
       "      <td>78.538571</td>\n",
       "      <td>15.20</td>\n",
       "      <td>14.091429</td>\n",
       "      <td>2.657143</td>\n",
       "      <td>23.757143</td>\n",
       "      <td>6.328571</td>\n",
       "      <td>28.3</td>\n",
       "      <td>17.8</td>\n",
       "      <td>34.0</td>\n",
       "      <td>7</td>\n",
       "    </tr>\n",
       "  </tbody>\n",
       "</table>\n",
       "<p>5 rows × 25 columns</p>\n",
       "</div>"
      ],
      "text/plain": [
       "    city  year  weekofyear week_start_date   ndvi_ne   ndvi_nw   ndvi_se  \\\n",
       "763   sj  2005           0      2005-01-01 -0.126100 -0.062967  0.199486   \n",
       "764   sj  2005           1      2005-01-08  0.007900 -0.049633  0.124657   \n",
       "765   sj  2005           2      2005-01-15  0.024350 -0.019275  0.133543   \n",
       "766   sj  2005           3      2005-01-22 -0.111833 -0.076450  0.202900   \n",
       "767   sj  2005           4      2005-01-29 -0.047900  0.043100  0.174300   \n",
       "\n",
       "      ndvi_sw  precipitation_amt_mm  reanalysis_air_temp_k  ...  \\\n",
       "763  0.140350                150.31             298.682857  ...   \n",
       "764  0.100443                  0.00             297.587143  ...   \n",
       "765  0.127243                  0.00             297.600000  ...   \n",
       "766  0.223357                 14.67             297.395714  ...   \n",
       "767  0.145643                 15.20             296.535714  ...   \n",
       "\n",
       "     reanalysis_relative_humidity_percent  reanalysis_sat_precip_amt_mm  \\\n",
       "763                             83.952857                        150.31   \n",
       "764                             74.778571                          0.00   \n",
       "765                             78.798571                          0.00   \n",
       "766                             83.055714                         14.67   \n",
       "767                             78.538571                         15.20   \n",
       "\n",
       "     reanalysis_specific_humidity_g_per_kg  reanalysis_tdtr_k  \\\n",
       "763                              17.148571           2.057143   \n",
       "764                              14.261429           1.957143   \n",
       "765                              15.042857           1.914286   \n",
       "766                              15.671429           1.914286   \n",
       "767                              14.091429           2.657143   \n",
       "\n",
       "     station_avg_temp_c  station_diur_temp_rng_c  station_max_temp_c  \\\n",
       "763           26.242857                 5.714286                30.0   \n",
       "764           24.985714                 4.900000                28.3   \n",
       "765           25.200000                 5.385714                28.3   \n",
       "766           25.228571                 4.914286                28.3   \n",
       "767           23.757143                 6.328571                28.3   \n",
       "\n",
       "     station_min_temp_c  station_precip_mm  total_cases  \n",
       "763                22.8               55.7           10  \n",
       "764                21.1               23.8           15  \n",
       "765                22.2               55.6           17  \n",
       "766                21.7               32.4            7  \n",
       "767                17.8               34.0            7  \n",
       "\n",
       "[5 rows x 25 columns]"
      ]
     },
     "execution_count": 12,
     "metadata": {},
     "output_type": "execute_result"
    }
   ],
   "source": [
    "eval_df.head()"
   ]
  },
  {
   "cell_type": "code",
   "execution_count": 13,
   "id": "c8f2089a",
   "metadata": {},
   "outputs": [
    {
     "data": {
      "text/plain": [
       "(1153, 25)"
      ]
     },
     "execution_count": 13,
     "metadata": {},
     "output_type": "execute_result"
    }
   ],
   "source": [
    "train_df.shape"
   ]
  },
  {
   "cell_type": "code",
   "execution_count": 14,
   "id": "579f515a",
   "metadata": {},
   "outputs": [
    {
     "data": {
      "text/plain": [
       "['year',\n",
       " 'weekofyear',\n",
       " 'ndvi_ne',\n",
       " 'ndvi_nw',\n",
       " 'ndvi_se',\n",
       " 'ndvi_sw',\n",
       " 'precipitation_amt_mm',\n",
       " 'reanalysis_air_temp_k',\n",
       " 'reanalysis_avg_temp_k',\n",
       " 'reanalysis_dew_point_temp_k',\n",
       " 'reanalysis_max_air_temp_k',\n",
       " 'reanalysis_min_air_temp_k',\n",
       " 'reanalysis_precip_amt_kg_per_m2',\n",
       " 'reanalysis_relative_humidity_percent',\n",
       " 'reanalysis_sat_precip_amt_mm',\n",
       " 'reanalysis_specific_humidity_g_per_kg',\n",
       " 'reanalysis_tdtr_k',\n",
       " 'station_avg_temp_c',\n",
       " 'station_diur_temp_rng_c',\n",
       " 'station_max_temp_c',\n",
       " 'station_min_temp_c',\n",
       " 'station_precip_mm',\n",
       " 'total_cases']"
      ]
     },
     "execution_count": 14,
     "metadata": {},
     "output_type": "execute_result"
    }
   ],
   "source": [
    "list(train_df.select_dtypes(include=np.number).columns)"
   ]
  },
  {
   "cell_type": "code",
   "execution_count": 15,
   "id": "338f3e08",
   "metadata": {},
   "outputs": [
    {
     "data": {
      "text/plain": [
       "['city', 'week_start_date']"
      ]
     },
     "execution_count": 15,
     "metadata": {},
     "output_type": "execute_result"
    }
   ],
   "source": [
    "[col for col in train_df.columns if col not in list(train_df.select_dtypes(include=np.number).columns)]"
   ]
  },
  {
   "cell_type": "code",
   "execution_count": 16,
   "id": "bcde856d",
   "metadata": {},
   "outputs": [],
   "source": [
    "TARGET = 'total_cases'\n",
    "ignore_cols = ['week_start_date'] + [TARGET]\n",
    "num_cols = [col for col in list(train_df.select_dtypes(include=np.number).columns) if col not in ignore_cols]\n",
    "cat_cols = [col for col in [col for col in train_df.columns if col not in list(train_df.select_dtypes(include=np.number).columns)] if col not in ignore_cols]"
   ]
  },
  {
   "cell_type": "code",
   "execution_count": 17,
   "id": "bac5b404",
   "metadata": {},
   "outputs": [
    {
     "data": {
      "text/plain": [
       "['year',\n",
       " 'weekofyear',\n",
       " 'ndvi_ne',\n",
       " 'ndvi_nw',\n",
       " 'ndvi_se',\n",
       " 'ndvi_sw',\n",
       " 'precipitation_amt_mm',\n",
       " 'reanalysis_air_temp_k',\n",
       " 'reanalysis_avg_temp_k',\n",
       " 'reanalysis_dew_point_temp_k',\n",
       " 'reanalysis_max_air_temp_k',\n",
       " 'reanalysis_min_air_temp_k',\n",
       " 'reanalysis_precip_amt_kg_per_m2',\n",
       " 'reanalysis_relative_humidity_percent',\n",
       " 'reanalysis_sat_precip_amt_mm',\n",
       " 'reanalysis_specific_humidity_g_per_kg',\n",
       " 'reanalysis_tdtr_k',\n",
       " 'station_avg_temp_c',\n",
       " 'station_diur_temp_rng_c',\n",
       " 'station_max_temp_c',\n",
       " 'station_min_temp_c',\n",
       " 'station_precip_mm']"
      ]
     },
     "execution_count": 17,
     "metadata": {},
     "output_type": "execute_result"
    }
   ],
   "source": [
    "num_cols"
   ]
  },
  {
   "cell_type": "code",
   "execution_count": 18,
   "id": "ff7c1433",
   "metadata": {},
   "outputs": [
    {
     "data": {
      "text/plain": [
       "['city']"
      ]
     },
     "execution_count": 18,
     "metadata": {},
     "output_type": "execute_result"
    }
   ],
   "source": [
    "cat_cols"
   ]
  },
  {
   "cell_type": "code",
   "execution_count": 19,
   "id": "8b3f9ea3",
   "metadata": {},
   "outputs": [],
   "source": [
    "train_cat_df = pd.get_dummies(train_df[cat_cols])"
   ]
  },
  {
   "cell_type": "code",
   "execution_count": 21,
   "id": "d5a38f68",
   "metadata": {},
   "outputs": [],
   "source": [
    "features_train = train_df[num_cols].join(pd.get_dummies(train_df[cat_cols]))\n",
    "label_train = train_df[TARGET]\n",
    "features_eval = eval_df[num_cols].join(pd.get_dummies(eval_df[cat_cols]))\n",
    "label_eval = eval_df[TARGET]"
   ]
  },
  {
   "cell_type": "code",
   "execution_count": 22,
   "id": "352588cc",
   "metadata": {},
   "outputs": [],
   "source": [
    "model = 'sklearn.svm.SVR'"
   ]
  },
  {
   "cell_type": "code",
   "execution_count": 23,
   "id": "a6504e2b",
   "metadata": {},
   "outputs": [],
   "source": [
    "clf = hydra.utils.get_class(model)(kernel='linear')"
   ]
  },
  {
   "cell_type": "code",
   "execution_count": 24,
   "id": "14275e33",
   "metadata": {},
   "outputs": [],
   "source": [
    "clf = clf.fit(features_train, label_train)"
   ]
  },
  {
   "cell_type": "code",
   "execution_count": 25,
   "id": "a8867dd3",
   "metadata": {},
   "outputs": [],
   "source": [
    "y_hat = clf.predict(features_eval)"
   ]
  },
  {
   "cell_type": "code",
   "execution_count": 26,
   "id": "fe203dbf",
   "metadata": {},
   "outputs": [
    {
     "data": {
      "text/plain": [
       "14.737457206609562"
      ]
     },
     "execution_count": 26,
     "metadata": {},
     "output_type": "execute_result"
    }
   ],
   "source": [
    "mean_absolute_error(label_eval, y_hat)"
   ]
  },
  {
   "cell_type": "markdown",
   "id": "90160053",
   "metadata": {},
   "source": [
    "### Only non-correlated features"
   ]
  },
  {
   "cell_type": "code",
   "execution_count": 27,
   "id": "17e44dde",
   "metadata": {},
   "outputs": [],
   "source": [
    "initial_list = [\n",
    "    'weekofyear',\n",
    " 'ndvi_ne',\n",
    "#  'ndvi_nw',\n",
    "#  'ndvi_se',\n",
    " 'ndvi_sw',\n",
    "#  'precipitation_amt_mm',\n",
    "#  'reanalysis_air_temp_k',\n",
    "#  'reanalysis_avg_temp_k',\n",
    "#  'reanalysis_dew_point_temp_k',\n",
    "#  'reanalysis_max_air_temp_k',\n",
    "#  'reanalysis_min_air_temp_k',\n",
    "#  'reanalysis_precip_amt_kg_per_m2',\n",
    "#  'reanalysis_relative_humidity_percent',\n",
    "#  'reanalysis_sat_precip_amt_mm',\n",
    " 'reanalysis_specific_humidity_g_per_kg',\n",
    "#  'reanalysis_tdtr_k',\n",
    " 'station_avg_temp_c',\n",
    "#  'station_diur_temp_rng_c',\n",
    "#  'station_max_temp_c',\n",
    "#  'station_min_temp_c',\n",
    " 'station_precip_mm',\n",
    " 'total_cases']"
   ]
  },
  {
   "cell_type": "code",
   "execution_count": 28,
   "id": "e9850c55",
   "metadata": {},
   "outputs": [],
   "source": [
    "TARGET = 'total_cases'\n",
    "ignore_cols = ['week_start_date'] + [TARGET]\n",
    "num_cols = [col for col in initial_list if col not in ignore_cols]\n",
    "cat_cols = [col for col in [col for col in train_df.columns if col not in list(train_df.select_dtypes(include=np.number).columns)] if col not in ignore_cols]"
   ]
  },
  {
   "cell_type": "code",
   "execution_count": 51,
   "id": "e1cafa41",
   "metadata": {},
   "outputs": [],
   "source": [
    "features_train = train_df[num_cols].join(pd.get_dummies(train_df[cat_cols]))\n",
    "feature_names = list(features_train.columns)\n",
    "features_train = features_train.values\n",
    "label_train = train_df[TARGET].values\n",
    "features_eval = eval_df[num_cols].join(pd.get_dummies(eval_df[cat_cols])).values\n",
    "label_eval = eval_df[TARGET].values"
   ]
  },
  {
   "cell_type": "code",
   "execution_count": 52,
   "id": "1448feab",
   "metadata": {},
   "outputs": [],
   "source": [
    "model = 'sklearn.svm.SVR'"
   ]
  },
  {
   "cell_type": "code",
   "execution_count": 53,
   "id": "9ea8004a",
   "metadata": {},
   "outputs": [],
   "source": [
    "clf = hydra.utils.get_class(model)(kernel='linear')"
   ]
  },
  {
   "cell_type": "code",
   "execution_count": 39,
   "id": "d029380c",
   "metadata": {},
   "outputs": [],
   "source": [
    "model = 'sklearn.neural_network.MLPRegressor'\n",
    "clf = hydra.utils.get_class(model)(hidden_layer_sizes=(8,4,), early_stopping=True)"
   ]
  },
  {
   "cell_type": "code",
   "execution_count": 54,
   "id": "614326f6",
   "metadata": {},
   "outputs": [],
   "source": [
    "clf = clf.fit(features_train, label_train)"
   ]
  },
  {
   "cell_type": "code",
   "execution_count": 55,
   "id": "28c22e15",
   "metadata": {},
   "outputs": [],
   "source": [
    "y_hat = clf.predict(features_eval)"
   ]
  },
  {
   "cell_type": "code",
   "execution_count": 56,
   "id": "e6e4f4d4",
   "metadata": {},
   "outputs": [
    {
     "data": {
      "text/plain": [
       "14.755264902996284"
      ]
     },
     "execution_count": 56,
     "metadata": {},
     "output_type": "execute_result"
    }
   ],
   "source": [
    "mean_absolute_error(label_eval, y_hat)"
   ]
  },
  {
   "cell_type": "code",
   "execution_count": 57,
   "id": "a3122324",
   "metadata": {},
   "outputs": [
    {
     "data": {
      "image/png": "[encoded data removed]",
      "text/plain": [
       "<Figure size 432x288 with 1 Axes>"
      ]
     },
     "metadata": {
      "needs_background": "light"
     },
     "output_type": "display_data"
    }
   ],
   "source": [
    "def f_importances(coef, names):\n",
    "    imp = coef\n",
    "    imp,names = zip(*sorted(zip(imp,names)))\n",
    "    plt.barh(range(len(names)), imp, align='center')\n",
    "    plt.yticks(range(len(names)), names)\n",
    "    plt.show()\n",
    "f_importances(clf.coef_[0], feature_names)"
   ]
  },
  {
   "cell_type": "markdown",
   "id": "e9f38def",
   "metadata": {},
   "source": [
    "### One model per city"
   ]
  },
  {
   "cell_type": "code",
   "execution_count": 58,
   "id": "52d33bd3",
   "metadata": {},
   "outputs": [],
   "source": [
    "initial_list = [\n",
    "    'weekofyear',\n",
    "#  'ndvi_ne',\n",
    "#  'ndvi_nw',\n",
    "#  'ndvi_se',\n",
    "#  'ndvi_sw',\n",
    "#  'precipitation_amt_mm',\n",
    "#  'reanalysis_air_temp_k',\n",
    "#  'reanalysis_avg_temp_k',\n",
    "#  'reanalysis_dew_point_temp_k',\n",
    "#  'reanalysis_max_air_temp_k',\n",
    "#  'reanalysis_min_air_temp_k',\n",
    "#  'reanalysis_precip_amt_kg_per_m2',\n",
    "#  'reanalysis_relative_humidity_percent',\n",
    "#  'reanalysis_sat_precip_amt_mm',\n",
    " 'reanalysis_specific_humidity_g_per_kg',\n",
    "#  'reanalysis_tdtr_k',\n",
    " 'station_avg_temp_c',\n",
    "#  'station_diur_temp_rng_c',\n",
    "#  'station_max_temp_c',\n",
    "#  'station_min_temp_c',\n",
    " 'station_precip_mm',\n",
    " 'total_cases']"
   ]
  },
  {
   "cell_type": "code",
   "execution_count": 120,
   "id": "5eb2159b",
   "metadata": {},
   "outputs": [
    {
     "data": {
      "application/vnd.jupyter.widget-view+json": {
       "model_id": "f3d9cdb26ffa4cb0983e5629be371030",
       "version_major": 2,
       "version_minor": 0
      },
      "text/plain": [
       "  0%|          | 0/1456 [00:00<?, ?it/s]"
      ]
     },
     "metadata": {},
     "output_type": "display_data"
    },
    {
     "data": {
      "application/vnd.jupyter.widget-view+json": {
       "model_id": "73d69216fbaf4792a94f92bb71262b63",
       "version_major": 2,
       "version_minor": 0
      },
      "text/plain": [
       "  0%|          | 0/20 [00:00<?, ?it/s]"
      ]
     },
     "metadata": {},
     "output_type": "display_data"
    },
    {
     "name": "stdout",
     "output_type": "stream",
     "text": [
      "sj 18.662644849221383\n"
     ]
    },
    {
     "data": {
      "application/vnd.jupyter.widget-view+json": {
       "model_id": "c3e947f94c2a437c81a212f8ab5422f8",
       "version_major": 2,
       "version_minor": 0
      },
      "text/plain": [
       "  0%|          | 0/1456 [00:00<?, ?it/s]"
      ]
     },
     "metadata": {},
     "output_type": "display_data"
    },
    {
     "data": {
      "application/vnd.jupyter.widget-view+json": {
       "model_id": "f0f34176220b45d994572bae883fe83b",
       "version_major": 2,
       "version_minor": 0
      },
      "text/plain": [
       "  0%|          | 0/20 [00:00<?, ?it/s]"
      ]
     },
     "metadata": {},
     "output_type": "display_data"
    },
    {
     "name": "stdout",
     "output_type": "stream",
     "text": [
      "iq 8.096945478056925\n",
      "14.129506505157424\n"
     ]
    }
   ],
   "source": [
    "y_real = []\n",
    "y_pred = []\n",
    "for city in ['sj', 'iq']:\n",
    "    features_train = pd.read_csv(os.path.join(data_folder, features_train_path))\n",
    "    labels_train = pd.read_csv(os.path.join(data_folder, labels_train_path))\n",
    "    features_test = pd.read_csv(os.path.join(data_folder, features_test_path))\n",
    "    # transform week_start_date into a datetime feature\n",
    "    \n",
    "    features_train['week_start_date'] = features_train.progress_apply(lambda x: parser.parse(x.week_start_date), axis=1)\n",
    "    \n",
    "    # Merge features and labels for easier exploration\n",
    "    train_df = features_train.merge(labels_train, on=['city', 'year', 'weekofyear'])\n",
    "    \n",
    "    fill_ma_cols = [col for col in train_df.columns if train_df[train_df[col].isna()].shape[0] > 0]\n",
    "    for col in tqdm(fill_ma_cols):\n",
    "        fill_ma(train_df, col)\n",
    "    train_df['weekofyear'] = train_df.apply(lambda x: x.weekofyear if x.weekofyear != 53 else 0, axis=1)\n",
    "    train_years = sorted(train_df[train_df.city == city]['year'].drop_duplicates().values)[:int(train_df[train_df.city == city]['year'].nunique() * 0.8)]\n",
    "    eval_years = sorted(train_df[train_df.city == city]['year'].drop_duplicates().values)[int(train_df[train_df.city == city]['year'].nunique() * 0.8):]\n",
    "\n",
    "    eval_df = train_df[(train_df.city == city) & (train_df.year.isin(eval_years))]\n",
    "    train_df = train_df[(train_df.city == city) & (train_df.year.isin(train_years))]\n",
    "    \n",
    "    TARGET = 'total_cases'\n",
    "    ignore_cols = ['week_start_date'] + [TARGET]\n",
    "    num_cols = [col for col in initial_list if col not in ignore_cols]\n",
    "    \n",
    "    features_train = train_df[num_cols].join(pd.get_dummies(train_df[cat_cols]))\n",
    "    label_train = train_df[TARGET]\n",
    "    features_eval = eval_df[num_cols].join(pd.get_dummies(eval_df[cat_cols]))\n",
    "    label_eval = eval_df[TARGET]\n",
    "    \n",
    "    model = 'sklearn.svm.SVR'\n",
    "    clf = hydra.utils.get_class(model)(kernel='linear')\n",
    "    clf = clf.fit(features_train, label_train)\n",
    "    y_hat = clf.predict(features_eval)\n",
    "    y_pred.extend(y_hat)\n",
    "    y_real.extend(label_eval)\n",
    "    print(city, mean_absolute_error(label_eval, y_hat))\n",
    "print(mean_absolute_error(y_real, y_pred))"
   ]
  },
  {
   "cell_type": "markdown",
   "id": "31ca8927",
   "metadata": {},
   "source": [
    "### Scaled features"
   ]
  },
  {
   "cell_type": "code",
   "execution_count": 81,
   "id": "8a9749e0",
   "metadata": {},
   "outputs": [],
   "source": [
    "initial_list = [\n",
    "    'weekofyear',\n",
    " 'ndvi_ne',\n",
    "#  'ndvi_nw',\n",
    "#  'ndvi_se',\n",
    " 'ndvi_sw',\n",
    "#  'precipitation_amt_mm',\n",
    "#  'reanalysis_air_temp_k',\n",
    "#  'reanalysis_avg_temp_k',\n",
    "#  'reanalysis_dew_point_temp_k',\n",
    "#  'reanalysis_max_air_temp_k',\n",
    "#  'reanalysis_min_air_temp_k',\n",
    "#  'reanalysis_precip_amt_kg_per_m2',\n",
    "#  'reanalysis_relative_humidity_percent',\n",
    "#  'reanalysis_sat_precip_amt_mm',\n",
    " 'reanalysis_specific_humidity_g_per_kg',\n",
    "#  'reanalysis_tdtr_k',\n",
    " 'station_avg_temp_c',\n",
    "#  'station_diur_temp_rng_c',\n",
    "#  'station_max_temp_c',\n",
    "#  'station_min_temp_c',\n",
    " 'station_precip_mm',\n",
    " 'total_cases']"
   ]
  },
  {
   "cell_type": "code",
   "execution_count": 82,
   "id": "02a68f29",
   "metadata": {},
   "outputs": [],
   "source": [
    "TARGET = 'total_cases'\n",
    "ignore_cols = ['week_start_date'] + [TARGET]\n",
    "num_cols = [col for col in initial_list if col not in ignore_cols]\n",
    "cat_cols = [col for col in [col for col in train_df.columns if col not in list(train_df.select_dtypes(include=np.number).columns)] if col not in ignore_cols]"
   ]
  },
  {
   "cell_type": "code",
   "execution_count": 83,
   "id": "d8a3c9bd",
   "metadata": {},
   "outputs": [],
   "source": [
    "features_train = train_df[num_cols].join(pd.get_dummies(train_df[cat_cols]))\n",
    "label_train = train_df[TARGET]\n",
    "features_eval = eval_df[num_cols].join(pd.get_dummies(eval_df[cat_cols]))\n",
    "label_eval = eval_df[TARGET]"
   ]
  },
  {
   "cell_type": "code",
   "execution_count": 84,
   "id": "490cbd2b",
   "metadata": {},
   "outputs": [],
   "source": [
    "scaler = preprocessing.StandardScaler().fit(features_train)\n",
    "# scaler = preprocessing.MinMaxScaler().fit(features_train)"
   ]
  },
  {
   "cell_type": "code",
   "execution_count": 85,
   "id": "7906a589",
   "metadata": {},
   "outputs": [],
   "source": [
    "features_train = scaler.transform(features_train)\n",
    "features_eval = scaler.transform(features_eval)\n",
    "#scaler = preprocessing.MinMaxScaler().fit(features_train)\n",
    "#features_train = scaler.transform(features_train)\n",
    "#features_eval = scaler.transform(features_eval)"
   ]
  },
  {
   "cell_type": "code",
   "execution_count": 86,
   "id": "43ddbcfe",
   "metadata": {},
   "outputs": [],
   "source": [
    "model = 'sklearn.svm.SVR'"
   ]
  },
  {
   "cell_type": "code",
   "execution_count": 87,
   "id": "224cc275",
   "metadata": {},
   "outputs": [],
   "source": [
    "clf = hydra.utils.get_class(model)()#(kernel='linear')"
   ]
  },
  {
   "cell_type": "code",
   "execution_count": 57,
   "id": "624ba140",
   "metadata": {},
   "outputs": [],
   "source": [
    "model = 'sklearn.neural_network.MLPRegressor'\n",
    "clf = hydra.utils.get_class(model)(hidden_layer_sizes=(8,4,), early_stopping=True)"
   ]
  },
  {
   "cell_type": "code",
   "execution_count": 88,
   "id": "966db2c0",
   "metadata": {},
   "outputs": [],
   "source": [
    "clf = clf.fit(features_train, label_train)"
   ]
  },
  {
   "cell_type": "code",
   "execution_count": 89,
   "id": "01a7eb9c",
   "metadata": {},
   "outputs": [],
   "source": [
    "y_hat = clf.predict(features_eval)"
   ]
  },
  {
   "cell_type": "code",
   "execution_count": 90,
   "id": "a39bb5ac",
   "metadata": {},
   "outputs": [
    {
     "data": {
      "text/plain": [
       "13.614313871299462"
      ]
     },
     "execution_count": 90,
     "metadata": {},
     "output_type": "execute_result"
    }
   ],
   "source": [
    "mean_absolute_error(label_eval, y_hat)"
   ]
  },
  {
   "cell_type": "markdown",
   "id": "91bdedf8",
   "metadata": {},
   "source": [
    "## Scaled all features"
   ]
  },
  {
   "cell_type": "code",
   "execution_count": 91,
   "id": "1c6425db",
   "metadata": {},
   "outputs": [],
   "source": [
    "initial_list = [\n",
    "    'weekofyear',\n",
    "     'ndvi_ne',\n",
    "     'ndvi_nw',\n",
    "     'ndvi_se',\n",
    "     'ndvi_sw',\n",
    "     'precipitation_amt_mm',\n",
    "     'reanalysis_air_temp_k',\n",
    "     'reanalysis_avg_temp_k',\n",
    "     'reanalysis_dew_point_temp_k',\n",
    "     'reanalysis_max_air_temp_k',\n",
    "     'reanalysis_min_air_temp_k',\n",
    "     'reanalysis_precip_amt_kg_per_m2',\n",
    "     'reanalysis_relative_humidity_percent',\n",
    "     'reanalysis_sat_precip_amt_mm',\n",
    "     'reanalysis_specific_humidity_g_per_kg',\n",
    "     'reanalysis_tdtr_k',\n",
    "     'station_avg_temp_c',\n",
    "     'station_diur_temp_rng_c',\n",
    "     'station_max_temp_c',\n",
    "     'station_min_temp_c',\n",
    "     'station_precip_mm',\n",
    "     'total_cases']"
   ]
  },
  {
   "cell_type": "code",
   "execution_count": 92,
   "id": "f1014aa0",
   "metadata": {},
   "outputs": [],
   "source": [
    "TARGET = 'total_cases'\n",
    "ignore_cols = ['week_start_date'] + [TARGET]\n",
    "num_cols = [col for col in initial_list if col not in ignore_cols]\n",
    "cat_cols = [col for col in [col for col in train_df.columns if col not in list(train_df.select_dtypes(include=np.number).columns)] if col not in ignore_cols]"
   ]
  },
  {
   "cell_type": "code",
   "execution_count": 106,
   "id": "3f75e506",
   "metadata": {},
   "outputs": [],
   "source": [
    "features_train = train_df[num_cols].join(pd.get_dummies(train_df[cat_cols]))\n",
    "feature_names = list(features_train.columns)\n",
    "features_train = features_train.values\n",
    "label_train = train_df[TARGET].values\n",
    "features_eval = eval_df[num_cols].join(pd.get_dummies(eval_df[cat_cols])).values\n",
    "label_eval = eval_df[TARGET].values"
   ]
  },
  {
   "cell_type": "code",
   "execution_count": 107,
   "id": "bc823802",
   "metadata": {},
   "outputs": [],
   "source": [
    "scaler = preprocessing.StandardScaler().fit(features_train)"
   ]
  },
  {
   "cell_type": "code",
   "execution_count": 108,
   "id": "a27b8c96",
   "metadata": {},
   "outputs": [],
   "source": [
    "features_train = scaler.transform(features_train)\n",
    "features_eval = scaler.transform(features_eval)"
   ]
  },
  {
   "cell_type": "code",
   "execution_count": 109,
   "id": "2e6879c3",
   "metadata": {},
   "outputs": [],
   "source": [
    "model = 'sklearn.svm.SVR'"
   ]
  },
  {
   "cell_type": "code",
   "execution_count": 110,
   "id": "602e606b",
   "metadata": {},
   "outputs": [],
   "source": [
    "clf = hydra.utils.get_class(model)(kernel='linear')"
   ]
  },
  {
   "cell_type": "code",
   "execution_count": 111,
   "id": "4b766483",
   "metadata": {},
   "outputs": [],
   "source": [
    "clf = clf.fit(features_train, label_train)"
   ]
  },
  {
   "cell_type": "code",
   "execution_count": 112,
   "id": "30bc4cfc",
   "metadata": {},
   "outputs": [],
   "source": [
    "y_hat = clf.predict(features_eval)"
   ]
  },
  {
   "cell_type": "code",
   "execution_count": 117,
   "id": "60f4050c",
   "metadata": {},
   "outputs": [
    {
     "data": {
      "text/plain": [
       "14.54596906304343"
      ]
     },
     "execution_count": 117,
     "metadata": {},
     "output_type": "execute_result"
    }
   ],
   "source": [
    "mean_absolute_error(label_eval, [y if y > 0 else 0 for y in y_hat])"
   ]
  },
  {
   "cell_type": "code",
   "execution_count": 118,
   "id": "b4e649cc",
   "metadata": {},
   "outputs": [
    {
     "data": {
      "image/png": "[encoded data removed]",
      "text/plain": [
       "<Figure size 432x288 with 1 Axes>"
      ]
     },
     "metadata": {
      "needs_background": "light"
     },
     "output_type": "display_data"
    }
   ],
   "source": [
    "def f_importances(coef, names):\n",
    "    imp = coef\n",
    "    imp,names = zip(*sorted(zip(imp,names)))\n",
    "    plt.barh(range(len(names)), imp, align='center')\n",
    "    plt.yticks(range(len(names)), names)\n",
    "    plt.show()\n",
    "f_importances(clf.coef_[0], feature_names)"
   ]
  },
  {
   "cell_type": "markdown",
   "id": "c23af3de",
   "metadata": {},
   "source": [
    "Initially, both splitting by city and scalling features seem to positively affect the predictions.\n",
    "\n",
    "Selecting best features also seems to have a positive impact\n",
    "\n",
    "Next, we should try other models and generate some features using Moving Averages and Shifting"
   ]
  }
 ],
 "metadata": {
  "kernelspec": {
   "display_name": "dengai",
   "language": "python",
   "name": "dengai"
  },
  "language_info": {
   "codemirror_mode": {
    "name": "ipython",
    "version": 3
   },
   "file_extension": ".py",
   "mimetype": "text/x-python",
   "name": "python",
   "nbconvert_exporter": "python",
   "pygments_lexer": "ipython3",
   "version": "3.8.10"
  }
 },
 "nbformat": 4,
 "nbformat_minor": 5
}
