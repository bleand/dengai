{
 "cells": [
  {
   "cell_type": "markdown",
   "id": "05fe112e",
   "metadata": {},
   "source": [
    "## Generate submission\n",
    "\n",
    "So far, the best model seems to be SVR with linear kernel\n",
    "\n",
    "Features had been selected by looking at feature importance and testing different MA windows and shifts"
   ]
  },
  {
   "cell_type": "code",
   "execution_count": 1,
   "id": "c4669ab8",
   "metadata": {},
   "outputs": [],
   "source": [
    "import pandas as pd\n",
    "import os\n",
    "import seaborn as sns\n",
    "from dateutil import parser\n",
    "from tqdm.auto import tqdm\n",
    "import matplotlib.pyplot as plt\n",
    "tqdm.pandas()\n",
    "import numpy as np\n",
    "import hydra\n",
    "from sklearn.metrics import mean_absolute_error\n",
    "from sklearn import preprocessing\n",
    "import lightgbm as lgb\n",
    "import copy\n",
    "from sklearn.model_selection import train_test_split"
   ]
  },
  {
   "cell_type": "code",
   "execution_count": 2,
   "id": "24022a73",
   "metadata": {},
   "outputs": [],
   "source": [
    "from warnings import simplefilter\n",
    "from sklearn.exceptions import ConvergenceWarning\n",
    "simplefilter(\"ignore\", category=ConvergenceWarning)"
   ]
  },
  {
   "cell_type": "markdown",
   "id": "07b510ff",
   "metadata": {},
   "source": [
    "### Load data"
   ]
  },
  {
   "cell_type": "code",
   "execution_count": 3,
   "id": "511b9ce4",
   "metadata": {},
   "outputs": [],
   "source": [
    "data_folder = 'data'\n",
    "features_train_path = 'dengue_features_train.csv'\n",
    "labels_train_path = 'dengue_labels_train.csv'\n",
    "features_test_path = 'dengue_features_test.csv'\n",
    "subm_format_path = \"submission_format.csv\""
   ]
  },
  {
   "cell_type": "code",
   "execution_count": 4,
   "id": "46122e68",
   "metadata": {},
   "outputs": [],
   "source": [
    "features_train_df = pd.read_csv(os.path.join(data_folder, features_train_path))\n",
    "labels_train = pd.read_csv(os.path.join(data_folder, labels_train_path))\n",
    "features_test_df = pd.read_csv(os.path.join(data_folder, features_test_path))\n",
    "subm_format = pd.read_csv(os.path.join(data_folder, subm_format_path))"
   ]
  },
  {
   "cell_type": "markdown",
   "id": "b301722c",
   "metadata": {},
   "source": [
    "### Basic Pre-processing"
   ]
  },
  {
   "cell_type": "code",
   "execution_count": 5,
   "id": "830560ec",
   "metadata": {
    "scrolled": true
   },
   "outputs": [
    {
     "data": {
      "application/vnd.jupyter.widget-view+json": {
       "model_id": "9d9ea0cd990245e3b23bbdb415b07b21",
       "version_major": 2,
       "version_minor": 0
      },
      "text/plain": [
       "  0%|          | 0/1456 [00:00<?, ?it/s]"
      ]
     },
     "metadata": {},
     "output_type": "display_data"
    },
    {
     "data": {
      "application/vnd.jupyter.widget-view+json": {
       "model_id": "68a90cd2c0ac4e82b90d2a6d46898601",
       "version_major": 2,
       "version_minor": 0
      },
      "text/plain": [
       "  0%|          | 0/416 [00:00<?, ?it/s]"
      ]
     },
     "metadata": {},
     "output_type": "display_data"
    }
   ],
   "source": [
    "# transform week_start_date into a datetime feature\n",
    "features_train_df['week_start_date'] = features_train_df.progress_apply(lambda x: parser.parse(x.week_start_date), axis=1)\n",
    "features_test_df['week_start_date'] = features_test_df.progress_apply(lambda x: parser.parse(x.week_start_date), axis=1)"
   ]
  },
  {
   "cell_type": "code",
   "execution_count": 6,
   "id": "4afade12",
   "metadata": {},
   "outputs": [],
   "source": [
    "# Merge features and labels for easier exploration\n",
    "train_df = features_train_df.merge(labels_train, on=['city', 'year', 'weekofyear'])"
   ]
  },
  {
   "cell_type": "markdown",
   "id": "f422f43f",
   "metadata": {},
   "source": [
    "# SJ"
   ]
  },
  {
   "cell_type": "code",
   "execution_count": 9,
   "id": "e63af7b2",
   "metadata": {},
   "outputs": [],
   "source": [
    "city_df = copy.deepcopy(train_df[train_df.city == 'sj'])"
   ]
  },
  {
   "cell_type": "code",
   "execution_count": 10,
   "id": "b7d76c8a",
   "metadata": {},
   "outputs": [],
   "source": [
    "sj_df_test = copy.deepcopy(features_test_df[features_test_df.city == 'sj'])"
   ]
  },
  {
   "cell_type": "code",
   "execution_count": 11,
   "id": "16fbf1f4",
   "metadata": {},
   "outputs": [
    {
     "data": {
      "application/vnd.jupyter.widget-view+json": {
       "model_id": "adcdeaee68b946548348dd67818572c1",
       "version_major": 2,
       "version_minor": 0
      },
      "text/plain": [
       "  0%|          | 0/20 [00:00<?, ?it/s]"
      ]
     },
     "metadata": {},
     "output_type": "display_data"
    }
   ],
   "source": [
    "fill_ma_cols = [col for col in city_df.columns if city_df[city_df[col].isna()].shape[0] > 0]\n",
    "for col in tqdm(fill_ma_cols):\n",
    "    city_df[col].fillna(method='ffill', inplace=True)"
   ]
  },
  {
   "cell_type": "code",
   "execution_count": 12,
   "id": "1f63f761",
   "metadata": {},
   "outputs": [
    {
     "data": {
      "application/vnd.jupyter.widget-view+json": {
       "model_id": "6abaf03b25ee44338ce56eedda7f30e3",
       "version_major": 2,
       "version_minor": 0
      },
      "text/plain": [
       "  0%|          | 0/20 [00:00<?, ?it/s]"
      ]
     },
     "metadata": {},
     "output_type": "display_data"
    }
   ],
   "source": [
    "fill_ma_cols = [col for col in sj_df_test.columns if sj_df_test[sj_df_test[col].isna()].shape[0] > 0]\n",
    "for col in tqdm(fill_ma_cols):\n",
    "    sj_df_test[col].fillna(method='ffill', inplace=True)"
   ]
  },
  {
   "cell_type": "code",
   "execution_count": 13,
   "id": "77aecb2c",
   "metadata": {},
   "outputs": [],
   "source": [
    "for col in list(city_df.select_dtypes(include=np.number).columns):\n",
    "    if col not in [\"year\", \"weekofyear\", \"total_cases\"]:\n",
    "        for s in [10]:\n",
    "            city_df[col + \"_SHIFT_\" + str(s)] = city_df.groupby(\"city\")[col].shift(s).fillna(city_df[col].mean())\n",
    "            city_df[col + \"_MA_\" + str(s)] = city_df[col].rolling(s).mean().fillna(city_df[col].mean())"
   ]
  },
  {
   "cell_type": "code",
   "execution_count": 14,
   "id": "92018ae2",
   "metadata": {},
   "outputs": [],
   "source": [
    "for col in list(sj_df_test.select_dtypes(include=np.number).columns):\n",
    "    if col not in [\"year\", \"weekofyear\", \"total_cases\"]:\n",
    "        for s in [10]:\n",
    "            sj_df_test[col + \"_SHIFT_\" + str(s)] = sj_df_test.groupby(\"city\")[col].shift(s).fillna(sj_df_test[col].mean())\n",
    "            sj_df_test[col + \"_MA_\" + str(s)] = sj_df_test[col].rolling(s).mean().fillna(sj_df_test[col].mean())"
   ]
  },
  {
   "cell_type": "code",
   "execution_count": 15,
   "id": "a82c7890",
   "metadata": {},
   "outputs": [],
   "source": [
    "train_years = sorted(city_df['year'].drop_duplicates().values)[:int(city_df['year'].nunique() * 0.8)]\n",
    "eval_years = sorted(city_df['year'].drop_duplicates().values)[int(city_df['year'].nunique() * 0.8):]\n",
    "\n",
    "city_train_df = city_df[city_df.year.isin(train_years)]\n",
    "city_eval_df = city_df[city_df.year.isin(eval_years)]"
   ]
  },
  {
   "cell_type": "code",
   "execution_count": 16,
   "id": "eb4dbdf3",
   "metadata": {},
   "outputs": [],
   "source": [
    "initial_list = [\n",
    "    'weekofyear',\n",
    "#      'ndvi_ne',\n",
    "     'ndvi_nw',\n",
    "     'ndvi_se',\n",
    "#      'ndvi_sw',\n",
    "#      'precipitation_amt_mm',\n",
    "#      'reanalysis_air_temp_k',\n",
    "#      'reanalysis_avg_temp_k',\n",
    "     'reanalysis_dew_point_temp_k',\n",
    "     'reanalysis_max_air_temp_k',\n",
    "     'reanalysis_min_air_temp_k',\n",
    "#      'reanalysis_precip_amt_kg_per_m2',\n",
    "#      'reanalysis_relative_humidity_percent',\n",
    "#      'reanalysis_sat_precip_amt_mm',\n",
    "     'reanalysis_specific_humidity_g_per_kg',\n",
    "     'reanalysis_tdtr_k',\n",
    "     'station_avg_temp_c',\n",
    "     'station_diur_temp_rng_c',\n",
    "#      'station_max_temp_c',\n",
    "#      'station_min_temp_c',\n",
    "#      'station_precip_mm',\n",
    "     'total_cases']\n",
    "final_list = []\n",
    "for col in initial_list:\n",
    "    final_list.append(col)\n",
    "    if col not in ['total_cases', 'weekofyear']:\n",
    "        for s in [10]:\n",
    "            final_list.append(col + '_MA_' + str(s))\n",
    "            final_list.append(col + '_SHIFT_' + str(s))\n",
    "initial_list = final_list"
   ]
  },
  {
   "cell_type": "code",
   "execution_count": 17,
   "id": "a90185cc",
   "metadata": {},
   "outputs": [],
   "source": [
    "TARGET = 'total_cases'\n",
    "ignore_cols = ['week_start_date'] + [TARGET]\n",
    "num_cols = [col for col in initial_list if col not in ignore_cols]\n",
    "cat_cols = [col for col in [col for col in city_train_df.columns if col not in list(city_train_df.select_dtypes(include=np.number).columns)] if col not in ignore_cols]"
   ]
  },
  {
   "cell_type": "code",
   "execution_count": 18,
   "id": "07b52bb7",
   "metadata": {},
   "outputs": [],
   "source": [
    "features_train = city_train_df[num_cols].join(pd.get_dummies(city_train_df[cat_cols])).values\n",
    "label_train = city_train_df[TARGET].values\n",
    "features_eval = city_eval_df[num_cols].join(pd.get_dummies(city_eval_df[cat_cols])).values\n",
    "label_eval = city_eval_df[TARGET].values\n",
    "features_test = sj_df_test[num_cols].join(pd.get_dummies(sj_df_test[cat_cols])).values"
   ]
  },
  {
   "cell_type": "code",
   "execution_count": 20,
   "id": "3a0661dc",
   "metadata": {},
   "outputs": [],
   "source": [
    "scaler = 'sklearn.preprocessing.MinMaxScaler'\n",
    "scaler = hydra.utils.get_class(scaler)()\n",
    "scaler.fit(features_train)\n",
    "features_train = scaler.transform(features_train)\n",
    "features_eval = scaler.transform(features_eval)\n",
    "features_test = scaler.transform(features_test)"
   ]
  },
  {
   "cell_type": "code",
   "execution_count": 21,
   "id": "dab9c89f",
   "metadata": {},
   "outputs": [
    {
     "name": "stdout",
     "output_type": "stream",
     "text": [
      "sklearn.svm.SVR 16.181309392124227\n"
     ]
    }
   ],
   "source": [
    "model = 'sklearn.svm.SVR'\n",
    "clf = hydra.utils.get_class(model)(kernel=\"linear\")\n",
    "clf = clf.fit(features_train, label_train)\n",
    "y_hat = clf.predict(features_eval)\n",
    "print(model, mean_absolute_error(label_eval, y_hat))"
   ]
  },
  {
   "cell_type": "code",
   "execution_count": 22,
   "id": "e50d7fb0",
   "metadata": {},
   "outputs": [],
   "source": [
    "y_pred =  clf.predict(features_test)"
   ]
  },
  {
   "cell_type": "code",
   "execution_count": 23,
   "id": "6ea31146",
   "metadata": {},
   "outputs": [
    {
     "data": {
      "text/plain": [
       "array([22., 20., 22., 19., 22., 17., 19., 20., 18., 16., 12., 12., 16.,\n",
       "       18., 19., 24., 22., 25., 26., 34., 27., 28., 32., 28., 31., 27.,\n",
       "       30., 30., 27., 29., 25., 28., 24., 22., 23., 21., 17., 16., 16.,\n",
       "       14., 13.,  6.,  7.,  9.,  4.,  5.,  3.,  9.,  8.,  7.,  6.,  6.,\n",
       "        3.,  4.,  3.,  6.,  1.,  4.,  9., 11., 13., 13., 17., 13., 18.,\n",
       "       18., 19., 23., 21., 19., 22., 23., 28., 29., 27., 28., 25., 25.,\n",
       "       26., 27., 24., 29., 24., 23., 25., 26., 26., 23., 21., 21., 19.,\n",
       "       19., 22., 21., 20., 19., 14., 17., 14., 11., 11., 11.,  7.,  7.,\n",
       "        8., 10., 13., 10., 12., 16., 16., 13., 14., 21., 23., 24., 25.,\n",
       "       27., 23., 30., 29., 28., 28., 29., 29., 33., 29., 29., 33., 31.,\n",
       "       26., 32., 32., 33., 28., 27., 27., 21., 22., 17., 15., 20., 14.,\n",
       "       11.,  9.,  8., -2.,  8.,  9.,  7.,  3.,  6.,  6.,  6.,  4.,  4.,\n",
       "        3.,  3.,  0.,  5.,  6.,  7., 17., 20., 17., 19., 20., 26., 28.,\n",
       "       29., 31., 32., 33., 34., 35., 35., 31., 34., 30., 30., 31., 34.,\n",
       "       32., 31., 30., 31., 30., 27., 25., 28., 27., 25., 21., 23., 21.,\n",
       "       21., 18., 15., 13., 12.,  7.,  9.,  8.,  9.,  8.,  6.,  4.,  8.,\n",
       "        7.,  8., 11., 11., 12., 12., 13., 16., 16., 18., 16., 23., 20.,\n",
       "       22., 21., 20., 28., 28., 30., 28., 29., 28., 29., 29., 30., 31.,\n",
       "       32., 32., 26., 31., 32., 31., 34., 35., 32., 32., 29., 29., 26.,\n",
       "       26., 24., 19., 17., 14., 16., 10., 13.,  8.,  4., 10.,  5.,  7.])"
      ]
     },
     "execution_count": 23,
     "metadata": {},
     "output_type": "execute_result"
    }
   ],
   "source": [
    "y_pred.round()"
   ]
  },
  {
   "cell_type": "code",
   "execution_count": 24,
   "id": "4840e99a",
   "metadata": {},
   "outputs": [],
   "source": [
    "sj_df_test['total_cases'] = [int(y) if y > 0 else 0 for y in y_pred.round()]"
   ]
  },
  {
   "cell_type": "code",
   "execution_count": 25,
   "id": "8908cace",
   "metadata": {},
   "outputs": [
    {
     "data": {
      "text/html": [
       "<div>\n",
       "<style scoped>\n",
       "    .dataframe tbody tr th:only-of-type {\n",
       "        vertical-align: middle;\n",
       "    }\n",
       "\n",
       "    .dataframe tbody tr th {\n",
       "        vertical-align: top;\n",
       "    }\n",
       "\n",
       "    .dataframe thead th {\n",
       "        text-align: right;\n",
       "    }\n",
       "</style>\n",
       "<table border=\"1\" class=\"dataframe\">\n",
       "  <thead>\n",
       "    <tr style=\"text-align: right;\">\n",
       "      <th></th>\n",
       "      <th>city</th>\n",
       "      <th>year</th>\n",
       "      <th>weekofyear</th>\n",
       "      <th>week_start_date</th>\n",
       "      <th>ndvi_ne</th>\n",
       "      <th>ndvi_nw</th>\n",
       "      <th>ndvi_se</th>\n",
       "      <th>ndvi_sw</th>\n",
       "      <th>precipitation_amt_mm</th>\n",
       "      <th>reanalysis_air_temp_k</th>\n",
       "      <th>...</th>\n",
       "      <th>station_avg_temp_c_MA_10</th>\n",
       "      <th>station_diur_temp_rng_c_SHIFT_10</th>\n",
       "      <th>station_diur_temp_rng_c_MA_10</th>\n",
       "      <th>station_max_temp_c_SHIFT_10</th>\n",
       "      <th>station_max_temp_c_MA_10</th>\n",
       "      <th>station_min_temp_c_SHIFT_10</th>\n",
       "      <th>station_min_temp_c_MA_10</th>\n",
       "      <th>station_precip_mm_SHIFT_10</th>\n",
       "      <th>station_precip_mm_MA_10</th>\n",
       "      <th>total_cases</th>\n",
       "    </tr>\n",
       "  </thead>\n",
       "  <tbody>\n",
       "    <tr>\n",
       "      <th>0</th>\n",
       "      <td>sj</td>\n",
       "      <td>2008</td>\n",
       "      <td>18</td>\n",
       "      <td>2008-04-29</td>\n",
       "      <td>-0.0189</td>\n",
       "      <td>-0.018900</td>\n",
       "      <td>0.102729</td>\n",
       "      <td>0.091200</td>\n",
       "      <td>78.60</td>\n",
       "      <td>298.492857</td>\n",
       "      <td>...</td>\n",
       "      <td>27.261923</td>\n",
       "      <td>6.151538</td>\n",
       "      <td>6.151538</td>\n",
       "      <td>31.666538</td>\n",
       "      <td>31.666538</td>\n",
       "      <td>23.096538</td>\n",
       "      <td>23.096538</td>\n",
       "      <td>34.001538</td>\n",
       "      <td>34.001538</td>\n",
       "      <td>22</td>\n",
       "    </tr>\n",
       "    <tr>\n",
       "      <th>1</th>\n",
       "      <td>sj</td>\n",
       "      <td>2008</td>\n",
       "      <td>19</td>\n",
       "      <td>2008-05-06</td>\n",
       "      <td>-0.0180</td>\n",
       "      <td>-0.012400</td>\n",
       "      <td>0.082043</td>\n",
       "      <td>0.072314</td>\n",
       "      <td>12.56</td>\n",
       "      <td>298.475714</td>\n",
       "      <td>...</td>\n",
       "      <td>27.261923</td>\n",
       "      <td>6.151538</td>\n",
       "      <td>6.151538</td>\n",
       "      <td>31.666538</td>\n",
       "      <td>31.666538</td>\n",
       "      <td>23.096538</td>\n",
       "      <td>23.096538</td>\n",
       "      <td>34.001538</td>\n",
       "      <td>34.001538</td>\n",
       "      <td>20</td>\n",
       "    </tr>\n",
       "    <tr>\n",
       "      <th>2</th>\n",
       "      <td>sj</td>\n",
       "      <td>2008</td>\n",
       "      <td>20</td>\n",
       "      <td>2008-05-13</td>\n",
       "      <td>-0.0015</td>\n",
       "      <td>-0.012400</td>\n",
       "      <td>0.151083</td>\n",
       "      <td>0.091529</td>\n",
       "      <td>3.66</td>\n",
       "      <td>299.455714</td>\n",
       "      <td>...</td>\n",
       "      <td>27.261923</td>\n",
       "      <td>6.151538</td>\n",
       "      <td>6.151538</td>\n",
       "      <td>31.666538</td>\n",
       "      <td>31.666538</td>\n",
       "      <td>23.096538</td>\n",
       "      <td>23.096538</td>\n",
       "      <td>34.001538</td>\n",
       "      <td>34.001538</td>\n",
       "      <td>22</td>\n",
       "    </tr>\n",
       "    <tr>\n",
       "      <th>3</th>\n",
       "      <td>sj</td>\n",
       "      <td>2008</td>\n",
       "      <td>21</td>\n",
       "      <td>2008-05-20</td>\n",
       "      <td>-0.0015</td>\n",
       "      <td>-0.019867</td>\n",
       "      <td>0.124329</td>\n",
       "      <td>0.125686</td>\n",
       "      <td>0.00</td>\n",
       "      <td>299.690000</td>\n",
       "      <td>...</td>\n",
       "      <td>27.261923</td>\n",
       "      <td>6.151538</td>\n",
       "      <td>6.151538</td>\n",
       "      <td>31.666538</td>\n",
       "      <td>31.666538</td>\n",
       "      <td>23.096538</td>\n",
       "      <td>23.096538</td>\n",
       "      <td>34.001538</td>\n",
       "      <td>34.001538</td>\n",
       "      <td>19</td>\n",
       "    </tr>\n",
       "    <tr>\n",
       "      <th>4</th>\n",
       "      <td>sj</td>\n",
       "      <td>2008</td>\n",
       "      <td>22</td>\n",
       "      <td>2008-05-27</td>\n",
       "      <td>0.0568</td>\n",
       "      <td>0.039833</td>\n",
       "      <td>0.062267</td>\n",
       "      <td>0.075914</td>\n",
       "      <td>0.76</td>\n",
       "      <td>299.780000</td>\n",
       "      <td>...</td>\n",
       "      <td>27.261923</td>\n",
       "      <td>6.151538</td>\n",
       "      <td>6.151538</td>\n",
       "      <td>31.666538</td>\n",
       "      <td>31.666538</td>\n",
       "      <td>23.096538</td>\n",
       "      <td>23.096538</td>\n",
       "      <td>34.001538</td>\n",
       "      <td>34.001538</td>\n",
       "      <td>22</td>\n",
       "    </tr>\n",
       "  </tbody>\n",
       "</table>\n",
       "<p>5 rows × 65 columns</p>\n",
       "</div>"
      ],
      "text/plain": [
       "  city  year  weekofyear week_start_date  ndvi_ne   ndvi_nw   ndvi_se  \\\n",
       "0   sj  2008          18      2008-04-29  -0.0189 -0.018900  0.102729   \n",
       "1   sj  2008          19      2008-05-06  -0.0180 -0.012400  0.082043   \n",
       "2   sj  2008          20      2008-05-13  -0.0015 -0.012400  0.151083   \n",
       "3   sj  2008          21      2008-05-20  -0.0015 -0.019867  0.124329   \n",
       "4   sj  2008          22      2008-05-27   0.0568  0.039833  0.062267   \n",
       "\n",
       "    ndvi_sw  precipitation_amt_mm  reanalysis_air_temp_k  ...  \\\n",
       "0  0.091200                 78.60             298.492857  ...   \n",
       "1  0.072314                 12.56             298.475714  ...   \n",
       "2  0.091529                  3.66             299.455714  ...   \n",
       "3  0.125686                  0.00             299.690000  ...   \n",
       "4  0.075914                  0.76             299.780000  ...   \n",
       "\n",
       "   station_avg_temp_c_MA_10  station_diur_temp_rng_c_SHIFT_10  \\\n",
       "0                 27.261923                          6.151538   \n",
       "1                 27.261923                          6.151538   \n",
       "2                 27.261923                          6.151538   \n",
       "3                 27.261923                          6.151538   \n",
       "4                 27.261923                          6.151538   \n",
       "\n",
       "   station_diur_temp_rng_c_MA_10  station_max_temp_c_SHIFT_10  \\\n",
       "0                       6.151538                    31.666538   \n",
       "1                       6.151538                    31.666538   \n",
       "2                       6.151538                    31.666538   \n",
       "3                       6.151538                    31.666538   \n",
       "4                       6.151538                    31.666538   \n",
       "\n",
       "   station_max_temp_c_MA_10  station_min_temp_c_SHIFT_10  \\\n",
       "0                 31.666538                    23.096538   \n",
       "1                 31.666538                    23.096538   \n",
       "2                 31.666538                    23.096538   \n",
       "3                 31.666538                    23.096538   \n",
       "4                 31.666538                    23.096538   \n",
       "\n",
       "   station_min_temp_c_MA_10  station_precip_mm_SHIFT_10  \\\n",
       "0                 23.096538                   34.001538   \n",
       "1                 23.096538                   34.001538   \n",
       "2                 23.096538                   34.001538   \n",
       "3                 23.096538                   34.001538   \n",
       "4                 23.096538                   34.001538   \n",
       "\n",
       "   station_precip_mm_MA_10  total_cases  \n",
       "0                34.001538           22  \n",
       "1                34.001538           20  \n",
       "2                34.001538           22  \n",
       "3                34.001538           19  \n",
       "4                34.001538           22  \n",
       "\n",
       "[5 rows x 65 columns]"
      ]
     },
     "execution_count": 25,
     "metadata": {},
     "output_type": "execute_result"
    }
   ],
   "source": [
    "sj_df_test.head()"
   ]
  },
  {
   "cell_type": "markdown",
   "id": "e2857240",
   "metadata": {},
   "source": [
    "# iq"
   ]
  },
  {
   "cell_type": "code",
   "execution_count": 26,
   "id": "563f4e64",
   "metadata": {},
   "outputs": [],
   "source": [
    "city_df = copy.deepcopy(train_df[train_df.city == 'iq'])"
   ]
  },
  {
   "cell_type": "code",
   "execution_count": 27,
   "id": "eff6bab9",
   "metadata": {},
   "outputs": [],
   "source": [
    "iq_df_test = copy.deepcopy(features_test_df[features_test_df.city == 'iq'])"
   ]
  },
  {
   "cell_type": "code",
   "execution_count": 28,
   "id": "693583dc",
   "metadata": {},
   "outputs": [
    {
     "data": {
      "application/vnd.jupyter.widget-view+json": {
       "model_id": "59393366bbdd4b1bb0fd1a613b9ae4bc",
       "version_major": 2,
       "version_minor": 0
      },
      "text/plain": [
       "  0%|          | 0/20 [00:00<?, ?it/s]"
      ]
     },
     "metadata": {},
     "output_type": "display_data"
    }
   ],
   "source": [
    "fill_ma_cols = [col for col in city_df.columns if city_df[city_df[col].isna()].shape[0] > 0]\n",
    "for col in tqdm(fill_ma_cols):\n",
    "    city_df[col].fillna(method='ffill', inplace=True)"
   ]
  },
  {
   "cell_type": "code",
   "execution_count": 29,
   "id": "c028db2e",
   "metadata": {},
   "outputs": [
    {
     "data": {
      "application/vnd.jupyter.widget-view+json": {
       "model_id": "d83501de95124934b441781ac72d57a3",
       "version_major": 2,
       "version_minor": 0
      },
      "text/plain": [
       "  0%|          | 0/5 [00:00<?, ?it/s]"
      ]
     },
     "metadata": {},
     "output_type": "display_data"
    }
   ],
   "source": [
    "fill_ma_cols = [col for col in iq_df_test.columns if iq_df_test[iq_df_test[col].isna()].shape[0] > 0]\n",
    "for col in tqdm(fill_ma_cols):\n",
    "    iq_df_test[col].fillna(method='ffill', inplace=True)"
   ]
  },
  {
   "cell_type": "code",
   "execution_count": 30,
   "id": "1b478539",
   "metadata": {},
   "outputs": [],
   "source": [
    "for col in list(city_df.select_dtypes(include=np.number).columns):\n",
    "    if col not in [\"year\", \"weekofyear\", \"total_cases\"]:\n",
    "        for s in [10]:\n",
    "            city_df[col + \"_SHIFT_\" + str(s)] = city_df.groupby(\"city\")[col].shift(s).fillna(city_df[col].mean())\n",
    "            city_df[col + \"_MA_\" + str(s)] = city_df[col].rolling(s).mean().fillna(city_df[col].mean())"
   ]
  },
  {
   "cell_type": "code",
   "execution_count": 31,
   "id": "7570da40",
   "metadata": {},
   "outputs": [],
   "source": [
    "for col in list(iq_df_test.select_dtypes(include=np.number).columns):\n",
    "    if col not in [\"year\", \"weekofyear\", \"total_cases\"]:\n",
    "        for s in [10]:\n",
    "            iq_df_test[col + \"_SHIFT_\" + str(s)] = iq_df_test.groupby(\"city\")[col].shift(s).fillna(iq_df_test[col].mean())\n",
    "            iq_df_test[col + \"_MA_\" + str(s)] = iq_df_test[col].rolling(s).mean().fillna(iq_df_test[col].mean())"
   ]
  },
  {
   "cell_type": "code",
   "execution_count": 32,
   "id": "8ec7a586",
   "metadata": {},
   "outputs": [],
   "source": [
    "train_years = sorted(city_df['year'].drop_duplicates().values)[:int(city_df['year'].nunique() * 0.8)]\n",
    "eval_years = sorted(city_df['year'].drop_duplicates().values)[int(city_df['year'].nunique() * 0.8):]\n",
    "\n",
    "city_train_df = city_df[city_df.year.isin(train_years)]\n",
    "city_eval_df = city_df[city_df.year.isin(eval_years)]"
   ]
  },
  {
   "cell_type": "code",
   "execution_count": 33,
   "id": "f04224d5",
   "metadata": {},
   "outputs": [],
   "source": [
    "initial_list = [\n",
    "    'weekofyear',\n",
    "#      'ndvi_ne',\n",
    "     'ndvi_nw',\n",
    "     'ndvi_se',\n",
    "#      'ndvi_sw',\n",
    "#      'precipitation_amt_mm',\n",
    "#      'reanalysis_air_temp_k',\n",
    "#      'reanalysis_avg_temp_k',\n",
    "     'reanalysis_dew_point_temp_k',\n",
    "     'reanalysis_max_air_temp_k',\n",
    "     'reanalysis_min_air_temp_k',\n",
    "#      'reanalysis_precip_amt_kg_per_m2',\n",
    "#      'reanalysis_relative_humidity_percent',\n",
    "#      'reanalysis_sat_precip_amt_mm',\n",
    "     'reanalysis_specific_humidity_g_per_kg',\n",
    "     'reanalysis_tdtr_k',\n",
    "     'station_avg_temp_c',\n",
    "     'station_diur_temp_rng_c',\n",
    "#      'station_max_temp_c',\n",
    "#      'station_min_temp_c',\n",
    "#      'station_precip_mm',\n",
    "     'total_cases']\n",
    "final_list = []\n",
    "for col in initial_list:\n",
    "    final_list.append(col)\n",
    "    if col not in ['total_cases', 'weekofyear']:\n",
    "        for s in [10]:\n",
    "            final_list.append(col + '_MA_' + str(s))\n",
    "            final_list.append(col + '_SHIFT_' + str(s))\n",
    "initial_list = final_list"
   ]
  },
  {
   "cell_type": "code",
   "execution_count": 34,
   "id": "ce126e5d",
   "metadata": {},
   "outputs": [],
   "source": [
    "TARGET = 'total_cases'\n",
    "ignore_cols = ['week_start_date'] + [TARGET]\n",
    "num_cols = [col for col in initial_list if col not in ignore_cols]\n",
    "cat_cols = [col for col in [col for col in city_train_df.columns if col not in list(city_train_df.select_dtypes(include=np.number).columns)] if col not in ignore_cols]"
   ]
  },
  {
   "cell_type": "code",
   "execution_count": 35,
   "id": "a2502edb",
   "metadata": {},
   "outputs": [],
   "source": [
    "features_train = city_train_df[num_cols].join(pd.get_dummies(city_train_df[cat_cols])).values\n",
    "label_train = city_train_df[TARGET].values\n",
    "features_eval = city_eval_df[num_cols].join(pd.get_dummies(city_eval_df[cat_cols])).values\n",
    "label_eval = city_eval_df[TARGET].values\n",
    "features_test = iq_df_test[num_cols].join(pd.get_dummies(iq_df_test[cat_cols])).values"
   ]
  },
  {
   "cell_type": "code",
   "execution_count": 36,
   "id": "262bfaf8",
   "metadata": {},
   "outputs": [],
   "source": [
    "scaler = 'sklearn.preprocessing.MinMaxScaler'\n",
    "scaler = hydra.utils.get_class(scaler)()\n",
    "scaler.fit(features_train)\n",
    "features_train = scaler.transform(features_train)\n",
    "features_eval = scaler.transform(features_eval)\n",
    "features_test = scaler.transform(features_test)"
   ]
  },
  {
   "cell_type": "code",
   "execution_count": 37,
   "id": "be886a66",
   "metadata": {},
   "outputs": [
    {
     "name": "stdout",
     "output_type": "stream",
     "text": [
      "sklearn.svm.SVR 8.079637742308044\n"
     ]
    }
   ],
   "source": [
    "model = 'sklearn.svm.SVR'\n",
    "clf = hydra.utils.get_class(model)(kernel=\"linear\")\n",
    "clf = clf.fit(features_train, label_train)\n",
    "y_hat = clf.predict(features_eval)\n",
    "print(model, mean_absolute_error(label_eval, y_hat))"
   ]
  },
  {
   "cell_type": "code",
   "execution_count": 38,
   "id": "ebd34eaa",
   "metadata": {},
   "outputs": [],
   "source": [
    "y_pred = clf.predict(features_test)"
   ]
  },
  {
   "cell_type": "code",
   "execution_count": 39,
   "id": "7b0d3f3e",
   "metadata": {},
   "outputs": [
    {
     "data": {
      "text/plain": [
       "array([5., 5., 5., 4., 5., 5., 4., 5., 5., 4., 4., 3., 3., 2., 3., 3., 3.,\n",
       "       4., 4., 4., 5., 5., 6., 6., 6., 6., 6., 5., 5., 5., 5., 5., 5., 5.,\n",
       "       5., 5., 6., 5., 6., 6., 6., 6., 7., 8., 8., 6., 7., 7., 7., 6., 6.,\n",
       "       5., 5., 5., 3., 3., 3., 3., 3., 2., 2., 1., 2., 3., 2., 2., 3., 3.,\n",
       "       4., 3., 4., 5., 6., 7., 7., 8., 7., 8., 8., 6., 6., 6., 6., 6., 6.,\n",
       "       6., 6., 5., 5., 5., 5., 6., 5., 6., 6., 5., 6., 5., 5., 5., 5., 5.,\n",
       "       4., 5., 5., 3., 4., 4., 2., 3., 3., 2., 2., 3., 2., 3., 2., 3., 2.,\n",
       "       3., 3., 4., 5., 5., 6., 7., 7., 8., 9., 9., 8., 7., 7., 8., 7., 8.,\n",
       "       7., 7., 7., 7., 7., 8., 8., 8., 8., 8., 7., 6., 7., 6., 6., 7., 6.,\n",
       "       5., 5., 5.])"
      ]
     },
     "execution_count": 39,
     "metadata": {},
     "output_type": "execute_result"
    }
   ],
   "source": [
    "y_pred.round()"
   ]
  },
  {
   "cell_type": "code",
   "execution_count": 40,
   "id": "252ddcf9",
   "metadata": {},
   "outputs": [],
   "source": [
    "iq_df_test['total_cases'] = [int(y) if y > 0 else 0 for y in y_pred.round()]"
   ]
  },
  {
   "cell_type": "code",
   "execution_count": 41,
   "id": "88062d6c",
   "metadata": {},
   "outputs": [
    {
     "data": {
      "text/html": [
       "<div>\n",
       "<style scoped>\n",
       "    .dataframe tbody tr th:only-of-type {\n",
       "        vertical-align: middle;\n",
       "    }\n",
       "\n",
       "    .dataframe tbody tr th {\n",
       "        vertical-align: top;\n",
       "    }\n",
       "\n",
       "    .dataframe thead th {\n",
       "        text-align: right;\n",
       "    }\n",
       "</style>\n",
       "<table border=\"1\" class=\"dataframe\">\n",
       "  <thead>\n",
       "    <tr style=\"text-align: right;\">\n",
       "      <th></th>\n",
       "      <th>city</th>\n",
       "      <th>year</th>\n",
       "      <th>weekofyear</th>\n",
       "      <th>week_start_date</th>\n",
       "      <th>ndvi_ne</th>\n",
       "      <th>ndvi_nw</th>\n",
       "      <th>ndvi_se</th>\n",
       "      <th>ndvi_sw</th>\n",
       "      <th>precipitation_amt_mm</th>\n",
       "      <th>reanalysis_air_temp_k</th>\n",
       "      <th>...</th>\n",
       "      <th>station_avg_temp_c_MA_10</th>\n",
       "      <th>station_diur_temp_rng_c_SHIFT_10</th>\n",
       "      <th>station_diur_temp_rng_c_MA_10</th>\n",
       "      <th>station_max_temp_c_SHIFT_10</th>\n",
       "      <th>station_max_temp_c_MA_10</th>\n",
       "      <th>station_min_temp_c_SHIFT_10</th>\n",
       "      <th>station_min_temp_c_MA_10</th>\n",
       "      <th>station_precip_mm_SHIFT_10</th>\n",
       "      <th>station_precip_mm_MA_10</th>\n",
       "      <th>total_cases</th>\n",
       "    </tr>\n",
       "  </thead>\n",
       "  <tbody>\n",
       "    <tr>\n",
       "      <th>260</th>\n",
       "      <td>iq</td>\n",
       "      <td>2010</td>\n",
       "      <td>26</td>\n",
       "      <td>2010-07-02</td>\n",
       "      <td>0.183783</td>\n",
       "      <td>0.142500</td>\n",
       "      <td>0.225129</td>\n",
       "      <td>0.150214</td>\n",
       "      <td>82.29</td>\n",
       "      <td>297.648571</td>\n",
       "      <td>...</td>\n",
       "      <td>27.520121</td>\n",
       "      <td>10.622212</td>\n",
       "      <td>10.622212</td>\n",
       "      <td>33.970513</td>\n",
       "      <td>33.970513</td>\n",
       "      <td>21.152564</td>\n",
       "      <td>21.152564</td>\n",
       "      <td>33.897436</td>\n",
       "      <td>33.897436</td>\n",
       "      <td>5</td>\n",
       "    </tr>\n",
       "    <tr>\n",
       "      <th>261</th>\n",
       "      <td>iq</td>\n",
       "      <td>2010</td>\n",
       "      <td>27</td>\n",
       "      <td>2010-07-09</td>\n",
       "      <td>0.291657</td>\n",
       "      <td>0.272267</td>\n",
       "      <td>0.330700</td>\n",
       "      <td>0.320914</td>\n",
       "      <td>25.30</td>\n",
       "      <td>298.224286</td>\n",
       "      <td>...</td>\n",
       "      <td>27.520121</td>\n",
       "      <td>10.622212</td>\n",
       "      <td>10.622212</td>\n",
       "      <td>33.970513</td>\n",
       "      <td>33.970513</td>\n",
       "      <td>21.152564</td>\n",
       "      <td>21.152564</td>\n",
       "      <td>33.897436</td>\n",
       "      <td>33.897436</td>\n",
       "      <td>5</td>\n",
       "    </tr>\n",
       "    <tr>\n",
       "      <th>262</th>\n",
       "      <td>iq</td>\n",
       "      <td>2010</td>\n",
       "      <td>28</td>\n",
       "      <td>2010-07-16</td>\n",
       "      <td>0.208543</td>\n",
       "      <td>0.366457</td>\n",
       "      <td>0.212629</td>\n",
       "      <td>0.255514</td>\n",
       "      <td>62.14</td>\n",
       "      <td>297.955714</td>\n",
       "      <td>...</td>\n",
       "      <td>27.520121</td>\n",
       "      <td>10.622212</td>\n",
       "      <td>10.622212</td>\n",
       "      <td>33.970513</td>\n",
       "      <td>33.970513</td>\n",
       "      <td>21.152564</td>\n",
       "      <td>21.152564</td>\n",
       "      <td>33.897436</td>\n",
       "      <td>33.897436</td>\n",
       "      <td>5</td>\n",
       "    </tr>\n",
       "    <tr>\n",
       "      <th>263</th>\n",
       "      <td>iq</td>\n",
       "      <td>2010</td>\n",
       "      <td>29</td>\n",
       "      <td>2010-07-23</td>\n",
       "      <td>0.089286</td>\n",
       "      <td>0.063214</td>\n",
       "      <td>0.122057</td>\n",
       "      <td>0.081957</td>\n",
       "      <td>47.80</td>\n",
       "      <td>295.715714</td>\n",
       "      <td>...</td>\n",
       "      <td>27.520121</td>\n",
       "      <td>10.622212</td>\n",
       "      <td>10.622212</td>\n",
       "      <td>33.970513</td>\n",
       "      <td>33.970513</td>\n",
       "      <td>21.152564</td>\n",
       "      <td>21.152564</td>\n",
       "      <td>33.897436</td>\n",
       "      <td>33.897436</td>\n",
       "      <td>4</td>\n",
       "    </tr>\n",
       "    <tr>\n",
       "      <th>264</th>\n",
       "      <td>iq</td>\n",
       "      <td>2010</td>\n",
       "      <td>30</td>\n",
       "      <td>2010-07-30</td>\n",
       "      <td>0.306100</td>\n",
       "      <td>0.327683</td>\n",
       "      <td>0.250086</td>\n",
       "      <td>0.267914</td>\n",
       "      <td>56.30</td>\n",
       "      <td>298.502857</td>\n",
       "      <td>...</td>\n",
       "      <td>27.520121</td>\n",
       "      <td>10.622212</td>\n",
       "      <td>10.622212</td>\n",
       "      <td>33.970513</td>\n",
       "      <td>33.970513</td>\n",
       "      <td>21.152564</td>\n",
       "      <td>21.152564</td>\n",
       "      <td>33.897436</td>\n",
       "      <td>33.897436</td>\n",
       "      <td>5</td>\n",
       "    </tr>\n",
       "  </tbody>\n",
       "</table>\n",
       "<p>5 rows × 65 columns</p>\n",
       "</div>"
      ],
      "text/plain": [
       "    city  year  weekofyear week_start_date   ndvi_ne   ndvi_nw   ndvi_se  \\\n",
       "260   iq  2010          26      2010-07-02  0.183783  0.142500  0.225129   \n",
       "261   iq  2010          27      2010-07-09  0.291657  0.272267  0.330700   \n",
       "262   iq  2010          28      2010-07-16  0.208543  0.366457  0.212629   \n",
       "263   iq  2010          29      2010-07-23  0.089286  0.063214  0.122057   \n",
       "264   iq  2010          30      2010-07-30  0.306100  0.327683  0.250086   \n",
       "\n",
       "      ndvi_sw  precipitation_amt_mm  reanalysis_air_temp_k  ...  \\\n",
       "260  0.150214                 82.29             297.648571  ...   \n",
       "261  0.320914                 25.30             298.224286  ...   \n",
       "262  0.255514                 62.14             297.955714  ...   \n",
       "263  0.081957                 47.80             295.715714  ...   \n",
       "264  0.267914                 56.30             298.502857  ...   \n",
       "\n",
       "     station_avg_temp_c_MA_10  station_diur_temp_rng_c_SHIFT_10  \\\n",
       "260                 27.520121                         10.622212   \n",
       "261                 27.520121                         10.622212   \n",
       "262                 27.520121                         10.622212   \n",
       "263                 27.520121                         10.622212   \n",
       "264                 27.520121                         10.622212   \n",
       "\n",
       "     station_diur_temp_rng_c_MA_10  station_max_temp_c_SHIFT_10  \\\n",
       "260                      10.622212                    33.970513   \n",
       "261                      10.622212                    33.970513   \n",
       "262                      10.622212                    33.970513   \n",
       "263                      10.622212                    33.970513   \n",
       "264                      10.622212                    33.970513   \n",
       "\n",
       "     station_max_temp_c_MA_10  station_min_temp_c_SHIFT_10  \\\n",
       "260                 33.970513                    21.152564   \n",
       "261                 33.970513                    21.152564   \n",
       "262                 33.970513                    21.152564   \n",
       "263                 33.970513                    21.152564   \n",
       "264                 33.970513                    21.152564   \n",
       "\n",
       "     station_min_temp_c_MA_10  station_precip_mm_SHIFT_10  \\\n",
       "260                 21.152564                   33.897436   \n",
       "261                 21.152564                   33.897436   \n",
       "262                 21.152564                   33.897436   \n",
       "263                 21.152564                   33.897436   \n",
       "264                 21.152564                   33.897436   \n",
       "\n",
       "     station_precip_mm_MA_10  total_cases  \n",
       "260                33.897436            5  \n",
       "261                33.897436            5  \n",
       "262                33.897436            5  \n",
       "263                33.897436            4  \n",
       "264                33.897436            5  \n",
       "\n",
       "[5 rows x 65 columns]"
      ]
     },
     "execution_count": 41,
     "metadata": {},
     "output_type": "execute_result"
    }
   ],
   "source": [
    "iq_df_test.head()"
   ]
  },
  {
   "cell_type": "code",
   "execution_count": 42,
   "id": "bc348786",
   "metadata": {},
   "outputs": [],
   "source": [
    "subm_format_1 = subm_format.merge(iq_df_test[['city', 'year', 'weekofyear', 'total_cases']], on=['city', 'year', 'weekofyear'], how='left', suffixes=('','_iq'))"
   ]
  },
  {
   "cell_type": "code",
   "execution_count": 43,
   "id": "92802a71",
   "metadata": {},
   "outputs": [],
   "source": [
    "subm_format_2 = subm_format_1.merge(sj_df_test[['city', 'year', 'weekofyear', 'total_cases']], on=['city', 'year', 'weekofyear'], how='left', suffixes=('','_sj'))"
   ]
  },
  {
   "cell_type": "code",
   "execution_count": 44,
   "id": "a55f3c1b",
   "metadata": {},
   "outputs": [
    {
     "data": {
      "text/html": [
       "<div>\n",
       "<style scoped>\n",
       "    .dataframe tbody tr th:only-of-type {\n",
       "        vertical-align: middle;\n",
       "    }\n",
       "\n",
       "    .dataframe tbody tr th {\n",
       "        vertical-align: top;\n",
       "    }\n",
       "\n",
       "    .dataframe thead th {\n",
       "        text-align: right;\n",
       "    }\n",
       "</style>\n",
       "<table border=\"1\" class=\"dataframe\">\n",
       "  <thead>\n",
       "    <tr style=\"text-align: right;\">\n",
       "      <th></th>\n",
       "      <th>city</th>\n",
       "      <th>year</th>\n",
       "      <th>weekofyear</th>\n",
       "      <th>total_cases</th>\n",
       "    </tr>\n",
       "  </thead>\n",
       "  <tbody>\n",
       "    <tr>\n",
       "      <th>0</th>\n",
       "      <td>sj</td>\n",
       "      <td>2008</td>\n",
       "      <td>18</td>\n",
       "      <td>0</td>\n",
       "    </tr>\n",
       "    <tr>\n",
       "      <th>1</th>\n",
       "      <td>sj</td>\n",
       "      <td>2008</td>\n",
       "      <td>19</td>\n",
       "      <td>0</td>\n",
       "    </tr>\n",
       "    <tr>\n",
       "      <th>2</th>\n",
       "      <td>sj</td>\n",
       "      <td>2008</td>\n",
       "      <td>20</td>\n",
       "      <td>0</td>\n",
       "    </tr>\n",
       "    <tr>\n",
       "      <th>3</th>\n",
       "      <td>sj</td>\n",
       "      <td>2008</td>\n",
       "      <td>21</td>\n",
       "      <td>0</td>\n",
       "    </tr>\n",
       "    <tr>\n",
       "      <th>4</th>\n",
       "      <td>sj</td>\n",
       "      <td>2008</td>\n",
       "      <td>22</td>\n",
       "      <td>0</td>\n",
       "    </tr>\n",
       "    <tr>\n",
       "      <th>...</th>\n",
       "      <td>...</td>\n",
       "      <td>...</td>\n",
       "      <td>...</td>\n",
       "      <td>...</td>\n",
       "    </tr>\n",
       "    <tr>\n",
       "      <th>411</th>\n",
       "      <td>iq</td>\n",
       "      <td>2013</td>\n",
       "      <td>22</td>\n",
       "      <td>0</td>\n",
       "    </tr>\n",
       "    <tr>\n",
       "      <th>412</th>\n",
       "      <td>iq</td>\n",
       "      <td>2013</td>\n",
       "      <td>23</td>\n",
       "      <td>0</td>\n",
       "    </tr>\n",
       "    <tr>\n",
       "      <th>413</th>\n",
       "      <td>iq</td>\n",
       "      <td>2013</td>\n",
       "      <td>24</td>\n",
       "      <td>0</td>\n",
       "    </tr>\n",
       "    <tr>\n",
       "      <th>414</th>\n",
       "      <td>iq</td>\n",
       "      <td>2013</td>\n",
       "      <td>25</td>\n",
       "      <td>0</td>\n",
       "    </tr>\n",
       "    <tr>\n",
       "      <th>415</th>\n",
       "      <td>iq</td>\n",
       "      <td>2013</td>\n",
       "      <td>26</td>\n",
       "      <td>0</td>\n",
       "    </tr>\n",
       "  </tbody>\n",
       "</table>\n",
       "<p>416 rows × 4 columns</p>\n",
       "</div>"
      ],
      "text/plain": [
       "    city  year  weekofyear  total_cases\n",
       "0     sj  2008          18            0\n",
       "1     sj  2008          19            0\n",
       "2     sj  2008          20            0\n",
       "3     sj  2008          21            0\n",
       "4     sj  2008          22            0\n",
       "..   ...   ...         ...          ...\n",
       "411   iq  2013          22            0\n",
       "412   iq  2013          23            0\n",
       "413   iq  2013          24            0\n",
       "414   iq  2013          25            0\n",
       "415   iq  2013          26            0\n",
       "\n",
       "[416 rows x 4 columns]"
      ]
     },
     "execution_count": 44,
     "metadata": {},
     "output_type": "execute_result"
    }
   ],
   "source": [
    "subm_format"
   ]
  },
  {
   "cell_type": "code",
   "execution_count": 45,
   "id": "b546c37c",
   "metadata": {},
   "outputs": [],
   "source": [
    "subm_format_2['total_cases'] = subm_format_2.apply(lambda x: x.total_cases_iq if x.city == 'iq' else x.total_cases_sj, axis=1)"
   ]
  },
  {
   "cell_type": "code",
   "execution_count": 46,
   "id": "4dea81c8",
   "metadata": {},
   "outputs": [],
   "source": [
    "subm_format_3 = subm_format_2[['city', 'year', 'weekofyear', 'total_cases']]"
   ]
  },
  {
   "cell_type": "code",
   "execution_count": 47,
   "id": "83645a87",
   "metadata": {},
   "outputs": [
    {
     "data": {
      "text/html": [
       "<div>\n",
       "<style scoped>\n",
       "    .dataframe tbody tr th:only-of-type {\n",
       "        vertical-align: middle;\n",
       "    }\n",
       "\n",
       "    .dataframe tbody tr th {\n",
       "        vertical-align: top;\n",
       "    }\n",
       "\n",
       "    .dataframe thead th {\n",
       "        text-align: right;\n",
       "    }\n",
       "</style>\n",
       "<table border=\"1\" class=\"dataframe\">\n",
       "  <thead>\n",
       "    <tr style=\"text-align: right;\">\n",
       "      <th></th>\n",
       "      <th>city</th>\n",
       "      <th>year</th>\n",
       "      <th>weekofyear</th>\n",
       "      <th>total_cases</th>\n",
       "    </tr>\n",
       "  </thead>\n",
       "  <tbody>\n",
       "    <tr>\n",
       "      <th>0</th>\n",
       "      <td>sj</td>\n",
       "      <td>2008</td>\n",
       "      <td>18</td>\n",
       "      <td>22.0</td>\n",
       "    </tr>\n",
       "    <tr>\n",
       "      <th>1</th>\n",
       "      <td>sj</td>\n",
       "      <td>2008</td>\n",
       "      <td>19</td>\n",
       "      <td>20.0</td>\n",
       "    </tr>\n",
       "    <tr>\n",
       "      <th>2</th>\n",
       "      <td>sj</td>\n",
       "      <td>2008</td>\n",
       "      <td>20</td>\n",
       "      <td>22.0</td>\n",
       "    </tr>\n",
       "    <tr>\n",
       "      <th>3</th>\n",
       "      <td>sj</td>\n",
       "      <td>2008</td>\n",
       "      <td>21</td>\n",
       "      <td>19.0</td>\n",
       "    </tr>\n",
       "    <tr>\n",
       "      <th>4</th>\n",
       "      <td>sj</td>\n",
       "      <td>2008</td>\n",
       "      <td>22</td>\n",
       "      <td>22.0</td>\n",
       "    </tr>\n",
       "    <tr>\n",
       "      <th>...</th>\n",
       "      <td>...</td>\n",
       "      <td>...</td>\n",
       "      <td>...</td>\n",
       "      <td>...</td>\n",
       "    </tr>\n",
       "    <tr>\n",
       "      <th>411</th>\n",
       "      <td>iq</td>\n",
       "      <td>2013</td>\n",
       "      <td>22</td>\n",
       "      <td>7.0</td>\n",
       "    </tr>\n",
       "    <tr>\n",
       "      <th>412</th>\n",
       "      <td>iq</td>\n",
       "      <td>2013</td>\n",
       "      <td>23</td>\n",
       "      <td>6.0</td>\n",
       "    </tr>\n",
       "    <tr>\n",
       "      <th>413</th>\n",
       "      <td>iq</td>\n",
       "      <td>2013</td>\n",
       "      <td>24</td>\n",
       "      <td>5.0</td>\n",
       "    </tr>\n",
       "    <tr>\n",
       "      <th>414</th>\n",
       "      <td>iq</td>\n",
       "      <td>2013</td>\n",
       "      <td>25</td>\n",
       "      <td>5.0</td>\n",
       "    </tr>\n",
       "    <tr>\n",
       "      <th>415</th>\n",
       "      <td>iq</td>\n",
       "      <td>2013</td>\n",
       "      <td>26</td>\n",
       "      <td>5.0</td>\n",
       "    </tr>\n",
       "  </tbody>\n",
       "</table>\n",
       "<p>416 rows × 4 columns</p>\n",
       "</div>"
      ],
      "text/plain": [
       "    city  year  weekofyear  total_cases\n",
       "0     sj  2008          18         22.0\n",
       "1     sj  2008          19         20.0\n",
       "2     sj  2008          20         22.0\n",
       "3     sj  2008          21         19.0\n",
       "4     sj  2008          22         22.0\n",
       "..   ...   ...         ...          ...\n",
       "411   iq  2013          22          7.0\n",
       "412   iq  2013          23          6.0\n",
       "413   iq  2013          24          5.0\n",
       "414   iq  2013          25          5.0\n",
       "415   iq  2013          26          5.0\n",
       "\n",
       "[416 rows x 4 columns]"
      ]
     },
     "execution_count": 47,
     "metadata": {},
     "output_type": "execute_result"
    }
   ],
   "source": [
    "subm_format_3"
   ]
  },
  {
   "cell_type": "code",
   "execution_count": 48,
   "id": "6aedbd24",
   "metadata": {},
   "outputs": [
    {
     "name": "stderr",
     "output_type": "stream",
     "text": [
      "C:\\Users\\Basla\\AppData\\Local\\Temp\\ipykernel_4880\\3488910137.py:1: SettingWithCopyWarning: \n",
      "A value is trying to be set on a copy of a slice from a DataFrame.\n",
      "Try using .loc[row_indexer,col_indexer] = value instead\n",
      "\n",
      "See the caveats in the documentation: https://pandas.pydata.org/pandas-docs/stable/user_guide/indexing.html#returning-a-view-versus-a-copy\n",
      "  subm_format_3.total_cases = [int(y) for y in subm_format_3.total_cases]\n"
     ]
    }
   ],
   "source": [
    "subm_format_3.total_cases = [int(y) for y in subm_format_3.total_cases]"
   ]
  },
  {
   "cell_type": "code",
   "execution_count": 49,
   "id": "5c7cc164",
   "metadata": {},
   "outputs": [
    {
     "data": {
      "text/html": [
       "<div>\n",
       "<style scoped>\n",
       "    .dataframe tbody tr th:only-of-type {\n",
       "        vertical-align: middle;\n",
       "    }\n",
       "\n",
       "    .dataframe tbody tr th {\n",
       "        vertical-align: top;\n",
       "    }\n",
       "\n",
       "    .dataframe thead th {\n",
       "        text-align: right;\n",
       "    }\n",
       "</style>\n",
       "<table border=\"1\" class=\"dataframe\">\n",
       "  <thead>\n",
       "    <tr style=\"text-align: right;\">\n",
       "      <th></th>\n",
       "      <th>city</th>\n",
       "      <th>year</th>\n",
       "      <th>weekofyear</th>\n",
       "      <th>total_cases</th>\n",
       "    </tr>\n",
       "  </thead>\n",
       "  <tbody>\n",
       "    <tr>\n",
       "      <th>0</th>\n",
       "      <td>sj</td>\n",
       "      <td>2008</td>\n",
       "      <td>18</td>\n",
       "      <td>22</td>\n",
       "    </tr>\n",
       "    <tr>\n",
       "      <th>1</th>\n",
       "      <td>sj</td>\n",
       "      <td>2008</td>\n",
       "      <td>19</td>\n",
       "      <td>20</td>\n",
       "    </tr>\n",
       "    <tr>\n",
       "      <th>2</th>\n",
       "      <td>sj</td>\n",
       "      <td>2008</td>\n",
       "      <td>20</td>\n",
       "      <td>22</td>\n",
       "    </tr>\n",
       "    <tr>\n",
       "      <th>3</th>\n",
       "      <td>sj</td>\n",
       "      <td>2008</td>\n",
       "      <td>21</td>\n",
       "      <td>19</td>\n",
       "    </tr>\n",
       "    <tr>\n",
       "      <th>4</th>\n",
       "      <td>sj</td>\n",
       "      <td>2008</td>\n",
       "      <td>22</td>\n",
       "      <td>22</td>\n",
       "    </tr>\n",
       "    <tr>\n",
       "      <th>...</th>\n",
       "      <td>...</td>\n",
       "      <td>...</td>\n",
       "      <td>...</td>\n",
       "      <td>...</td>\n",
       "    </tr>\n",
       "    <tr>\n",
       "      <th>411</th>\n",
       "      <td>iq</td>\n",
       "      <td>2013</td>\n",
       "      <td>22</td>\n",
       "      <td>7</td>\n",
       "    </tr>\n",
       "    <tr>\n",
       "      <th>412</th>\n",
       "      <td>iq</td>\n",
       "      <td>2013</td>\n",
       "      <td>23</td>\n",
       "      <td>6</td>\n",
       "    </tr>\n",
       "    <tr>\n",
       "      <th>413</th>\n",
       "      <td>iq</td>\n",
       "      <td>2013</td>\n",
       "      <td>24</td>\n",
       "      <td>5</td>\n",
       "    </tr>\n",
       "    <tr>\n",
       "      <th>414</th>\n",
       "      <td>iq</td>\n",
       "      <td>2013</td>\n",
       "      <td>25</td>\n",
       "      <td>5</td>\n",
       "    </tr>\n",
       "    <tr>\n",
       "      <th>415</th>\n",
       "      <td>iq</td>\n",
       "      <td>2013</td>\n",
       "      <td>26</td>\n",
       "      <td>5</td>\n",
       "    </tr>\n",
       "  </tbody>\n",
       "</table>\n",
       "<p>416 rows × 4 columns</p>\n",
       "</div>"
      ],
      "text/plain": [
       "    city  year  weekofyear  total_cases\n",
       "0     sj  2008          18           22\n",
       "1     sj  2008          19           20\n",
       "2     sj  2008          20           22\n",
       "3     sj  2008          21           19\n",
       "4     sj  2008          22           22\n",
       "..   ...   ...         ...          ...\n",
       "411   iq  2013          22            7\n",
       "412   iq  2013          23            6\n",
       "413   iq  2013          24            5\n",
       "414   iq  2013          25            5\n",
       "415   iq  2013          26            5\n",
       "\n",
       "[416 rows x 4 columns]"
      ]
     },
     "execution_count": 49,
     "metadata": {},
     "output_type": "execute_result"
    }
   ],
   "source": [
    "subm_format_3"
   ]
  },
  {
   "cell_type": "code",
   "execution_count": 50,
   "id": "9ff92fb7",
   "metadata": {},
   "outputs": [],
   "source": [
    "subm_format_3.to_csv(\"subm4.csv\", index=False) # --> SCORE 27.26"
   ]
  },
  {
   "cell_type": "code",
   "execution_count": 51,
   "id": "4ac63850",
   "metadata": {},
   "outputs": [
    {
     "data": {
      "text/html": [
       "<div>\n",
       "<style scoped>\n",
       "    .dataframe tbody tr th:only-of-type {\n",
       "        vertical-align: middle;\n",
       "    }\n",
       "\n",
       "    .dataframe tbody tr th {\n",
       "        vertical-align: top;\n",
       "    }\n",
       "\n",
       "    .dataframe thead th {\n",
       "        text-align: right;\n",
       "    }\n",
       "</style>\n",
       "<table border=\"1\" class=\"dataframe\">\n",
       "  <thead>\n",
       "    <tr style=\"text-align: right;\">\n",
       "      <th></th>\n",
       "      <th>year</th>\n",
       "      <th>weekofyear</th>\n",
       "      <th>total_cases</th>\n",
       "    </tr>\n",
       "  </thead>\n",
       "  <tbody>\n",
       "    <tr>\n",
       "      <th>count</th>\n",
       "      <td>416.000000</td>\n",
       "      <td>416.000000</td>\n",
       "      <td>416.000000</td>\n",
       "    </tr>\n",
       "    <tr>\n",
       "      <th>mean</th>\n",
       "      <td>2010.766827</td>\n",
       "      <td>26.439904</td>\n",
       "      <td>14.137019</td>\n",
       "    </tr>\n",
       "    <tr>\n",
       "      <th>std</th>\n",
       "      <td>1.434835</td>\n",
       "      <td>14.978257</td>\n",
       "      <td>10.159830</td>\n",
       "    </tr>\n",
       "    <tr>\n",
       "      <th>min</th>\n",
       "      <td>2008.000000</td>\n",
       "      <td>1.000000</td>\n",
       "      <td>0.000000</td>\n",
       "    </tr>\n",
       "    <tr>\n",
       "      <th>25%</th>\n",
       "      <td>2010.000000</td>\n",
       "      <td>13.750000</td>\n",
       "      <td>5.000000</td>\n",
       "    </tr>\n",
       "    <tr>\n",
       "      <th>50%</th>\n",
       "      <td>2011.000000</td>\n",
       "      <td>26.000000</td>\n",
       "      <td>9.000000</td>\n",
       "    </tr>\n",
       "    <tr>\n",
       "      <th>75%</th>\n",
       "      <td>2012.000000</td>\n",
       "      <td>39.000000</td>\n",
       "      <td>23.000000</td>\n",
       "    </tr>\n",
       "    <tr>\n",
       "      <th>max</th>\n",
       "      <td>2013.000000</td>\n",
       "      <td>53.000000</td>\n",
       "      <td>35.000000</td>\n",
       "    </tr>\n",
       "  </tbody>\n",
       "</table>\n",
       "</div>"
      ],
      "text/plain": [
       "              year  weekofyear  total_cases\n",
       "count   416.000000  416.000000   416.000000\n",
       "mean   2010.766827   26.439904    14.137019\n",
       "std       1.434835   14.978257    10.159830\n",
       "min    2008.000000    1.000000     0.000000\n",
       "25%    2010.000000   13.750000     5.000000\n",
       "50%    2011.000000   26.000000     9.000000\n",
       "75%    2012.000000   39.000000    23.000000\n",
       "max    2013.000000   53.000000    35.000000"
      ]
     },
     "execution_count": 51,
     "metadata": {},
     "output_type": "execute_result"
    }
   ],
   "source": [
    "subm_format_3.describe()"
   ]
  },
  {
   "cell_type": "markdown",
   "id": "36727816",
   "metadata": {},
   "source": [
    "After looking at the results, there are a lot of room for improvement.\n",
    "\n",
    "Another submission using LightGBM and a different set of features and hyperparamenters scored 26.55\n",
    "\n",
    "Now, one can start playing with different combination of features, different models, different combination of MA and SHIFTS\n",
    "\n",
    "Also, here the same features and model configs are used for each city (just training a separate instance)\n",
    "Since the distribution is slightly different, each city could have it's own model type and set of features.\n",
    "\n",
    "Once this has been explored, next obvious step is to move into Recurrent Networks (LSTMs)\n",
    "\n",
    "Combination (ensemble) of models and adding ARIMA as one of the models can also be a strong candidate."
   ]
  },
  {
   "cell_type": "code",
   "execution_count": null,
   "id": "b9912c2e",
   "metadata": {},
   "outputs": [],
   "source": []
  }
 ],
 "metadata": {
  "kernelspec": {
   "display_name": "dengai",
   "language": "python",
   "name": "dengai"
  },
  "language_info": {
   "codemirror_mode": {
    "name": "ipython",
    "version": 3
   },
   "file_extension": ".py",
   "mimetype": "text/x-python",
   "name": "python",
   "nbconvert_exporter": "python",
   "pygments_lexer": "ipython3",
   "version": "3.8.10"
  }
 },
 "nbformat": 4,
 "nbformat_minor": 5
}
