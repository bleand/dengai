{
 "cells": [
  {
   "cell_type": "markdown",
   "id": "7bb74391",
   "metadata": {},
   "source": [
    "## DengAI competition\n",
    "The goal of this competition is to build a model that predicts the number of Dengue cases in San Juan and Iquitos\n",
    "\n",
    "- [ ] Create function to test multiple models"
   ]
  },
  {
   "cell_type": "code",
   "execution_count": 19,
   "id": "9872c9ba",
   "metadata": {},
   "outputs": [],
   "source": [
    "import pandas as pd\n",
    "import os\n",
    "import seaborn as sns\n",
    "from dateutil import parser\n",
    "from tqdm.auto import tqdm\n",
    "import matplotlib.pyplot as plt\n",
    "tqdm.pandas()\n",
    "import numpy as np\n",
    "import hydra\n",
    "from sklearn.metrics import mean_absolute_error\n",
    "from sklearn import preprocessing\n",
    "import copy\n",
    "import itertools"
   ]
  },
  {
   "cell_type": "code",
   "execution_count": 10,
   "id": "f4f7df2a",
   "metadata": {},
   "outputs": [],
   "source": [
    "def fill_ma(df, col):\n",
    "    df[col+'_MA'] =  df[col].fillna(df[col].mean()).rolling(2).mean().tolist()\n",
    "    df[col] = df.apply(lambda x: x[col] if not np.isnan(x[col]) else x[col+'_MA'], axis=1)\n",
    "    df.drop(columns=[col+'_MA'], inplace=True)"
   ]
  },
  {
   "cell_type": "code",
   "execution_count": 11,
   "id": "75c092c7",
   "metadata": {},
   "outputs": [
    {
     "data": {
      "application/vnd.jupyter.widget-view+json": {
       "model_id": "1ef91ef8ca134612a16a9fb0eed11be9",
       "version_major": 2,
       "version_minor": 0
      },
      "text/plain": [
       "  0%|          | 0/1456 [00:00<?, ?it/s]"
      ]
     },
     "metadata": {},
     "output_type": "display_data"
    },
    {
     "data": {
      "application/vnd.jupyter.widget-view+json": {
       "model_id": "295992b685c640389f293ec2298b8d73",
       "version_major": 2,
       "version_minor": 0
      },
      "text/plain": [
       "  0%|          | 0/20 [00:00<?, ?it/s]"
      ]
     },
     "metadata": {},
     "output_type": "display_data"
    }
   ],
   "source": [
    "data_folder = 'data'\n",
    "data_train_path = 'dengue_features_train.csv'\n",
    "labels_train_path = 'dengue_labels_train.csv'\n",
    "data_train = pd.read_csv(os.path.join(data_folder, data_train_path))\n",
    "labels_train = pd.read_csv(os.path.join(data_folder, labels_train_path))\n",
    "# transform week_start_date into a datetime feature\n",
    "data_train['week_start_date'] = data_train.progress_apply(lambda x: parser.parse(x.week_start_date), axis=1)\n",
    "# Merge features and labels for easier exploration\n",
    "data_df = data_train.merge(labels_train, on=['city', 'year', 'weekofyear'])\n",
    "fill_ma_cols = [col for col in data_df.columns if data_df[data_df[col].isna()].shape[0] > 0]\n",
    "for col in tqdm(fill_ma_cols):\n",
    "    fill_ma(data_df, col)\n",
    "data_df['weekofyear'] = data_df.apply(lambda x: x.weekofyear if x.weekofyear != 53 else 0, axis=1)"
   ]
  },
  {
   "cell_type": "code",
   "execution_count": 13,
   "id": "511b9ce4",
   "metadata": {},
   "outputs": [],
   "source": [
    "def get_data(data_df_in):\n",
    "    data_df = copy.deepcopy(data_df_in)\n",
    "    iq_train_years = sorted(data_df[data_df.city == 'iq'][['year']].drop_duplicates().values)[:int(data_df[data_df.city == 'iq'][['year']].nunique() * 0.8)]\n",
    "    iq_eval_years = sorted(data_df[data_df.city == 'iq'][['year']].drop_duplicates().values)[int(data_df[data_df.city == 'iq'][['year']].nunique() * 0.8):]\n",
    "    sj_train_years = sorted(data_df[data_df.city == 'sj'][['year']].drop_duplicates().values)[:int(data_df[data_df.city == 'sj'][['year']].nunique() * 0.8)]\n",
    "    sj_eval_years = sorted(data_df[data_df.city == 'sj'][['year']].drop_duplicates().values)[int(data_df[data_df.city == 'sj'][['year']].nunique() * 0.8):]\n",
    "    eval_df = data_df[(data_df.city == 'sj') & (data_df.year.isin(sj_eval_years)) | (data_df.city == 'iq') & (data_df.year.isin(iq_eval_years))]\n",
    "    train_df = data_df[(data_df.city == 'sj') & (data_df.year.isin(sj_train_years)) | (data_df.city == 'iq') & (data_df.year.isin(iq_train_years))]\n",
    "    return train_df, eval_df"
   ]
  },
  {
   "cell_type": "code",
   "execution_count": 16,
   "id": "bbf8ea4e",
   "metadata": {},
   "outputs": [
    {
     "name": "stdout",
     "output_type": "stream",
     "text": [
      "CPU times: user 25.5 ms, sys: 2.07 ms, total: 27.6 ms\n",
      "Wall time: 25.9 ms\n"
     ]
    }
   ],
   "source": [
    "%%time\n",
    "train_df, eval_df = get_data(data_df)"
   ]
  },
  {
   "cell_type": "code",
   "execution_count": 27,
   "id": "56633077",
   "metadata": {},
   "outputs": [],
   "source": [
    "initial_list = [\n",
    "    'weekofyear',\n",
    " 'ndvi_ne',\n",
    "#  'ndvi_nw',\n",
    "#  'ndvi_se',\n",
    " 'ndvi_sw',\n",
    "#  'precipitation_amt_mm',\n",
    "#  'reanalysis_air_temp_k',\n",
    "#  'reanalysis_avg_temp_k',\n",
    "#  'reanalysis_dew_point_temp_k',\n",
    "#  'reanalysis_max_air_temp_k',\n",
    "#  'reanalysis_min_air_temp_k',\n",
    "#  'reanalysis_precip_amt_kg_per_m2',\n",
    "#  'reanalysis_relative_humidity_percent',\n",
    "#  'reanalysis_sat_precip_amt_mm',\n",
    " 'reanalysis_specific_humidity_g_per_kg',\n",
    "#  'reanalysis_tdtr_k',\n",
    " 'station_avg_temp_c',\n",
    "#  'station_diur_temp_rng_c',\n",
    "#  'station_max_temp_c',\n",
    "#  'station_min_temp_c',\n",
    " 'station_precip_mm',\n",
    " 'total_cases']\n",
    "TARGET = 'total_cases'\n",
    "ignore_cols = ['week_start_date'] + [TARGET]\n",
    "num_cols = [col for col in initial_list if col not in ignore_cols]\n",
    "cat_cols = [col for col in [col for col in train_df.columns if col not in list(train_df.select_dtypes(include=np.number).columns)] if col not in ignore_cols]"
   ]
  },
  {
   "cell_type": "code",
   "execution_count": 28,
   "id": "229f9046",
   "metadata": {},
   "outputs": [],
   "source": [
    "confs = {\n",
    "    'models' : ['sklearn.neural_network.MLPRegressor',\n",
    "              'sklearn.svm.SVR'\n",
    "             ],\n",
    "    'scaler' : [None, 'sklearn.preprocessing.StandardScaler', 'sklearn.preprocessing.MinMaxScaler']\n",
    "}"
   ]
  },
  {
   "cell_type": "code",
   "execution_count": 32,
   "id": "4c46f397",
   "metadata": {},
   "outputs": [
    {
     "data": {
      "application/vnd.jupyter.widget-view+json": {
       "model_id": "754ca437933d456a85e561609da9334a",
       "version_major": 2,
       "version_minor": 0
      },
      "text/plain": [
       "  0%|          | 0/6 [00:00<?, ?it/s]"
      ]
     },
     "metadata": {},
     "output_type": "display_data"
    },
    {
     "name": "stdout",
     "output_type": "stream",
     "text": [
      "sklearn.neural_network.MLPRegressor None\n",
      "34.518609290774\n",
      "sklearn.neural_network.MLPRegressor sklearn.preprocessing.StandardScaler\n"
     ]
    },
    {
     "name": "stderr",
     "output_type": "stream",
     "text": [
      "/Users/lbasla002/Envs/dengai/lib/python3.7/site-packages/sklearn/neural_network/_multilayer_perceptron.py:696: ConvergenceWarning: Stochastic Optimizer: Maximum iterations (200) reached and the optimization hasn't converged yet.\n",
      "  ConvergenceWarning,\n",
      "/Users/lbasla002/Envs/dengai/lib/python3.7/site-packages/sklearn/neural_network/_multilayer_perceptron.py:696: ConvergenceWarning: Stochastic Optimizer: Maximum iterations (200) reached and the optimization hasn't converged yet.\n",
      "  ConvergenceWarning,\n"
     ]
    },
    {
     "name": "stdout",
     "output_type": "stream",
     "text": [
      "33.68604017239179\n",
      "sklearn.neural_network.MLPRegressor sklearn.preprocessing.MinMaxScaler\n",
      "34.996463887725376\n",
      "sklearn.svm.SVR None\n"
     ]
    },
    {
     "name": "stderr",
     "output_type": "stream",
     "text": [
      "/Users/lbasla002/Envs/dengai/lib/python3.7/site-packages/sklearn/neural_network/_multilayer_perceptron.py:696: ConvergenceWarning: Stochastic Optimizer: Maximum iterations (200) reached and the optimization hasn't converged yet.\n",
      "  ConvergenceWarning,\n"
     ]
    },
    {
     "name": "stdout",
     "output_type": "stream",
     "text": [
      "26.690790053808517\n",
      "sklearn.svm.SVR sklearn.preprocessing.StandardScaler\n",
      "26.690790053808517\n",
      "sklearn.svm.SVR sklearn.preprocessing.MinMaxScaler\n",
      "26.690790053808517\n"
     ]
    }
   ],
   "source": [
    "for model, scaler in tqdm([*itertools.product(*confs.values())]):\n",
    "    print(model, scaler)\n",
    "    train_df, eval_df = get_data(data_df)\n",
    "    features_train = train_df[num_cols].join(pd.get_dummies(train_df[cat_cols]))\n",
    "    label_train = train_df[TARGET]\n",
    "    features_eval = eval_df[num_cols].join(pd.get_dummies(eval_df[cat_cols]))\n",
    "    label_eval = eval_df[TARGET]\n",
    "    clf = hydra.utils.get_class(model)()\n",
    "    clf = clf.fit(features_train, label_train)\n",
    "    y_hat = clf.predict(features_eval)\n",
    "    print(mean_absolute_error(label_eval, y_hat))"
   ]
  },
  {
   "cell_type": "code",
   "execution_count": 687,
   "id": "d029380c",
   "metadata": {},
   "outputs": [],
   "source": [
    "model = 'sklearn.neural_network.MLPRegressor'\n",
    "clf = hydra.utils.get_class(model)(hidden_layer_sizes=(8,4,), early_stopping=True)"
   ]
  },
  {
   "cell_type": "code",
   "execution_count": 527,
   "id": "94fc2850",
   "metadata": {},
   "outputs": [
    {
     "data": {
      "text/plain": [
       "array(['weekofyear', 'ndvi_ne', 'reanalysis_specific_humidity_g_per_kg',\n",
       "       'station_avg_temp_c', 'station_precip_mm', 'city_iq', 'city_sj'],\n",
       "      dtype=object)"
      ]
     },
     "execution_count": 527,
     "metadata": {},
     "output_type": "execute_result"
    }
   ],
   "source": [
    "clf.feature_names_in_"
   ]
  },
  {
   "cell_type": "code",
   "execution_count": 528,
   "id": "a3122324",
   "metadata": {},
   "outputs": [
    {
     "data": {
      "image/png": "[encoded data removed]",
      "text/plain": [
       "<Figure size 432x288 with 1 Axes>"
      ]
     },
     "metadata": {
      "needs_background": "light"
     },
     "output_type": "display_data"
    }
   ],
   "source": [
    "def f_importances(coef, names):\n",
    "    imp = coef\n",
    "    imp,names = zip(*sorted(zip(imp,names)))\n",
    "    plt.barh(range(len(names)), imp, align='center')\n",
    "    plt.yticks(range(len(names)), names)\n",
    "    plt.show()\n",
    "f_importances(clf.coef_[0], clf.feature_names_in_)"
   ]
  },
  {
   "cell_type": "markdown",
   "id": "e9f38def",
   "metadata": {},
   "source": [
    "### One model per city"
   ]
  },
  {
   "cell_type": "code",
   "execution_count": 461,
   "id": "52d33bd3",
   "metadata": {},
   "outputs": [],
   "source": [
    "initial_list = [\n",
    "    'weekofyear',\n",
    "#  'ndvi_ne',\n",
    "#  'ndvi_nw',\n",
    "#  'ndvi_se',\n",
    "#  'ndvi_sw',\n",
    "#  'precipitation_amt_mm',\n",
    "#  'reanalysis_air_temp_k',\n",
    "#  'reanalysis_avg_temp_k',\n",
    "#  'reanalysis_dew_point_temp_k',\n",
    "#  'reanalysis_max_air_temp_k',\n",
    "#  'reanalysis_min_air_temp_k',\n",
    "#  'reanalysis_precip_amt_kg_per_m2',\n",
    "#  'reanalysis_relative_humidity_percent',\n",
    "#  'reanalysis_sat_precip_amt_mm',\n",
    " 'reanalysis_specific_humidity_g_per_kg',\n",
    "#  'reanalysis_tdtr_k',\n",
    " 'station_avg_temp_c',\n",
    "#  'station_diur_temp_rng_c',\n",
    "#  'station_max_temp_c',\n",
    "#  'station_min_temp_c',\n",
    " 'station_precip_mm',\n",
    " 'total_cases']"
   ]
  },
  {
   "cell_type": "code",
   "execution_count": 462,
   "id": "5eb2159b",
   "metadata": {},
   "outputs": [
    {
     "data": {
      "application/vnd.jupyter.widget-view+json": {
       "model_id": "86e151a9a90a4c8287dca31ea7857ecb",
       "version_major": 2,
       "version_minor": 0
      },
      "text/plain": [
       "  0%|          | 0/1456 [00:00<?, ?it/s]"
      ]
     },
     "metadata": {},
     "output_type": "display_data"
    },
    {
     "data": {
      "application/vnd.jupyter.widget-view+json": {
       "model_id": "9aaac7f19e1147cfafe356fa8d524c49",
       "version_major": 2,
       "version_minor": 0
      },
      "text/plain": [
       "  0%|          | 0/20 [00:00<?, ?it/s]"
      ]
     },
     "metadata": {},
     "output_type": "display_data"
    },
    {
     "name": "stdout",
     "output_type": "stream",
     "text": [
      "sj 29.269045462044097\n"
     ]
    },
    {
     "data": {
      "application/vnd.jupyter.widget-view+json": {
       "model_id": "308f171779dc4dd1b4dad35012a3cfed",
       "version_major": 2,
       "version_minor": 0
      },
      "text/plain": [
       "  0%|          | 0/1456 [00:00<?, ?it/s]"
      ]
     },
     "metadata": {},
     "output_type": "display_data"
    },
    {
     "data": {
      "application/vnd.jupyter.widget-view+json": {
       "model_id": "b01a2975261f47739a9bbdb1a6889975",
       "version_major": 2,
       "version_minor": 0
      },
      "text/plain": [
       "  0%|          | 0/20 [00:00<?, ?it/s]"
      ]
     },
     "metadata": {},
     "output_type": "display_data"
    },
    {
     "name": "stdout",
     "output_type": "stream",
     "text": [
      "iq 13.044167749490034\n",
      "24.227051591210557\n"
     ]
    }
   ],
   "source": [
    "y_real = []\n",
    "y_pred = []\n",
    "for city in ['sj', 'iq']:\n",
    "    features_train = pd.read_csv(os.path.join(data_folder, features_train_path))\n",
    "    labels_train = pd.read_csv(os.path.join(data_folder, labels_train_path))\n",
    "    features_test = pd.read_csv(os.path.join(data_folder, features_test_path))\n",
    "    # transform week_start_date into a datetime feature\n",
    "    \n",
    "    features_train['week_start_date'] = features_train.progress_apply(lambda x: parser.parse(x.week_start_date), axis=1)\n",
    "    \n",
    "    # Merge features and labels for easier exploration\n",
    "    train_df = features_train.merge(labels_train, on=['city', 'year', 'weekofyear'])\n",
    "    \n",
    "    fill_ma_cols = [col for col in train_df.columns if train_df[train_df[col].isna()].shape[0] > 0]\n",
    "    for col in tqdm(fill_ma_cols):\n",
    "        fill_ma(train_df, col)\n",
    "    train_df['weekofyear'] = train_df.apply(lambda x: x.weekofyear if x.weekofyear != 53 else 0, axis=1)\n",
    "    train_years = sorted(train_df[train_df.city == city][['year']].drop_duplicates().values)[:int(train_df[train_df.city == city][['year']].nunique() * 0.8)]\n",
    "    eval_years = sorted(train_df[train_df.city == city][['year']].drop_duplicates().values)[int(train_df[train_df.city == city][['year']].nunique() * 0.8):]\n",
    "\n",
    "    eval_df = train_df[(train_df.city == city) & (train_df.year.isin(eval_years))]\n",
    "    train_df = train_df[(train_df.city == city) & (train_df.year.isin(train_years))]\n",
    "    \n",
    "    TARGET = 'total_cases'\n",
    "    ignore_cols = ['week_start_date'] + [TARGET]\n",
    "    num_cols = [col for col in initial_list if col not in ignore_cols]\n",
    "    \n",
    "    features_train = train_df[num_cols].join(pd.get_dummies(train_df[cat_cols]))\n",
    "    label_train = train_df[TARGET]\n",
    "    features_eval = eval_df[num_cols].join(pd.get_dummies(eval_df[cat_cols]))\n",
    "    label_eval = eval_df[TARGET]\n",
    "    \n",
    "    model = 'sklearn.svm.SVR'\n",
    "    clf = hydra.utils.get_class(model)(kernel='linear')\n",
    "    clf = clf.fit(features_train, label_train)\n",
    "    y_hat = clf.predict(features_eval)\n",
    "    y_pred.extend(y_hat)\n",
    "    y_real.extend(label_eval)\n",
    "    print(city, mean_absolute_error(label_eval, y_hat))\n",
    "print(mean_absolute_error(y_real, y_pred))"
   ]
  },
  {
   "cell_type": "markdown",
   "id": "cb21986e",
   "metadata": {},
   "source": [
    "### Scaled features"
   ]
  },
  {
   "cell_type": "code",
   "execution_count": 98,
   "id": "69dd1472",
   "metadata": {},
   "outputs": [],
   "source": [
    "initial_list = [\n",
    "    'weekofyear',\n",
    " 'ndvi_ne',\n",
    "#  'ndvi_nw',\n",
    "#  'ndvi_se',\n",
    " 'ndvi_sw',\n",
    "#  'precipitation_amt_mm',\n",
    "#  'reanalysis_air_temp_k',\n",
    "#  'reanalysis_avg_temp_k',\n",
    "#  'reanalysis_dew_point_temp_k',\n",
    "#  'reanalysis_max_air_temp_k',\n",
    "#  'reanalysis_min_air_temp_k',\n",
    "#  'reanalysis_precip_amt_kg_per_m2',\n",
    "#  'reanalysis_relative_humidity_percent',\n",
    "#  'reanalysis_sat_precip_amt_mm',\n",
    " 'reanalysis_specific_humidity_g_per_kg',\n",
    "#  'reanalysis_tdtr_k',\n",
    " 'station_avg_temp_c',\n",
    "#  'station_diur_temp_rng_c',\n",
    "#  'station_max_temp_c',\n",
    "#  'station_min_temp_c',\n",
    " 'station_precip_mm',\n",
    " 'total_cases']"
   ]
  },
  {
   "cell_type": "code",
   "execution_count": 99,
   "id": "5c189736",
   "metadata": {},
   "outputs": [],
   "source": [
    "TARGET = 'total_cases'\n",
    "ignore_cols = ['week_start_date'] + [TARGET]\n",
    "num_cols = [col for col in initial_list if col not in ignore_cols]\n",
    "cat_cols = [col for col in [col for col in train_df.columns if col not in list(train_df.select_dtypes(include=np.number).columns)] if col not in ignore_cols]"
   ]
  },
  {
   "cell_type": "code",
   "execution_count": 100,
   "id": "118d13dc",
   "metadata": {},
   "outputs": [],
   "source": [
    "features_train = train_df[num_cols].join(pd.get_dummies(train_df[cat_cols]))\n",
    "label_train = train_df[TARGET]\n",
    "features_eval = eval_df[num_cols].join(pd.get_dummies(eval_df[cat_cols]))\n",
    "label_eval = eval_df[TARGET]"
   ]
  },
  {
   "cell_type": "code",
   "execution_count": 101,
   "id": "40fb04d4",
   "metadata": {},
   "outputs": [],
   "source": [
    "scaler = preprocessing.StandardScaler().fit(features_train)\n",
    "# scaler = preprocessing.MinMaxScaler().fit(features_train)"
   ]
  },
  {
   "cell_type": "code",
   "execution_count": 102,
   "id": "16ceb88d",
   "metadata": {},
   "outputs": [],
   "source": [
    "features_train = scaler.transform(features_train)\n",
    "features_eval = scaler.transform(features_eval)\n",
    "#scaler = preprocessing.MinMaxScaler().fit(features_train)\n",
    "#features_train = scaler.transform(features_train)\n",
    "#features_eval = scaler.transform(features_eval)"
   ]
  },
  {
   "cell_type": "code",
   "execution_count": 103,
   "id": "0993f81b",
   "metadata": {},
   "outputs": [],
   "source": [
    "model = 'sklearn.svm.SVR'"
   ]
  },
  {
   "cell_type": "code",
   "execution_count": 104,
   "id": "4cb7f393",
   "metadata": {},
   "outputs": [],
   "source": [
    "clf = hydra.utils.get_class(model)()#(kernel='linear')"
   ]
  },
  {
   "cell_type": "code",
   "execution_count": 57,
   "id": "ac81d0d4",
   "metadata": {},
   "outputs": [],
   "source": [
    "model = 'sklearn.neural_network.MLPRegressor'\n",
    "clf = hydra.utils.get_class(model)(hidden_layer_sizes=(8,4,), early_stopping=True)"
   ]
  },
  {
   "cell_type": "code",
   "execution_count": 105,
   "id": "3444d369",
   "metadata": {},
   "outputs": [],
   "source": [
    "clf = clf.fit(features_train, label_train)"
   ]
  },
  {
   "cell_type": "code",
   "execution_count": 106,
   "id": "67efaf4e",
   "metadata": {},
   "outputs": [],
   "source": [
    "y_hat = clf.predict(features_eval)"
   ]
  },
  {
   "cell_type": "code",
   "execution_count": 107,
   "id": "0c19a738",
   "metadata": {},
   "outputs": [
    {
     "data": {
      "text/plain": [
       "21.160166863290996"
      ]
     },
     "execution_count": 107,
     "metadata": {},
     "output_type": "execute_result"
    }
   ],
   "source": [
    "mean_absolute_error(label_eval, y_hat)"
   ]
  },
  {
   "cell_type": "code",
   "execution_count": null,
   "id": "507ff723",
   "metadata": {},
   "outputs": [],
   "source": []
  }
 ],
 "metadata": {
  "kernelspec": {
   "display_name": "dengai",
   "language": "python",
   "name": "dengai"
  },
  "language_info": {
   "codemirror_mode": {
    "name": "ipython",
    "version": 3
   },
   "file_extension": ".py",
   "mimetype": "text/x-python",
   "name": "python",
   "nbconvert_exporter": "python",
   "pygments_lexer": "ipython3",
   "version": "3.7.13"
  }
 },
 "nbformat": 4,
 "nbformat_minor": 5
}
